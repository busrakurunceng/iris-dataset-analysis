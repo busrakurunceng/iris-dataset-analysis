{
 "cells": [
  {
   "cell_type": "markdown",
   "id": "644b94f1",
   "metadata": {
    "papermill": {
     "duration": 0.021303,
     "end_time": "2023-04-11T23:22:14.254435",
     "exception": false,
     "start_time": "2023-04-11T23:22:14.233132",
     "status": "completed"
    },
    "tags": []
   },
   "source": [
    "## Keşifçi Veri Analizi | Becerileri Pekiştirme"
   ]
  },
  {
   "cell_type": "markdown",
   "id": "f9584816",
   "metadata": {
    "papermill": {
     "duration": 0.02074,
     "end_time": "2023-04-11T23:22:14.294899",
     "exception": false,
     "start_time": "2023-04-11T23:22:14.274159",
     "status": "completed"
    },
    "tags": []
   },
   "source": [
    "## Kütüphaneleri Çağırma"
   ]
  },
  {
   "cell_type": "markdown",
   "id": "2506473f",
   "metadata": {
    "papermill": {
     "duration": 0.01926,
     "end_time": "2023-04-11T23:22:14.333869",
     "exception": false,
     "start_time": "2023-04-11T23:22:14.314609",
     "status": "completed"
    },
    "tags": []
   },
   "source": [
    "Aşağıda ihtiyacımız doğrultusunda kullanacağımız kütüphaneleri yükleyelim.\n",
    "\n",
    "Öncelikle pandas, numpy ve seaborn kütüphanelerini çağırarak başlıyoruz."
   ]
  },
  {
   "cell_type": "code",
   "execution_count": 1,
   "id": "b1aa2073",
   "metadata": {
    "execution": {
     "iopub.execute_input": "2023-04-11T23:22:14.374707Z",
     "iopub.status.busy": "2023-04-11T23:22:14.374145Z",
     "iopub.status.idle": "2023-04-11T23:22:15.596267Z",
     "shell.execute_reply": "2023-04-11T23:22:15.594780Z"
    },
    "papermill": {
     "duration": 1.246438,
     "end_time": "2023-04-11T23:22:15.599691",
     "exception": false,
     "start_time": "2023-04-11T23:22:14.353253",
     "status": "completed"
    },
    "tags": []
   },
   "outputs": [],
   "source": [
    "import numpy as np\n",
    "import seaborn as sns\n",
    "import pandas as pd"
   ]
  },
  {
   "cell_type": "markdown",
   "id": "a56929e0",
   "metadata": {
    "papermill": {
     "duration": 0.019605,
     "end_time": "2023-04-11T23:22:15.639704",
     "exception": false,
     "start_time": "2023-04-11T23:22:15.620099",
     "status": "completed"
    },
    "tags": []
   },
   "source": [
    "Görünen uyarı mesajlarını filtrelemek için aşağıdaki kod parçasını kullanıyorum. Bu sayede, kodun okunabilirliği artacak ve gereksiz uyarılar ekrana yazdırılmayacak."
   ]
  },
  {
   "cell_type": "code",
   "execution_count": 2,
   "id": "a8311013",
   "metadata": {
    "execution": {
     "iopub.execute_input": "2023-04-11T23:22:15.681566Z",
     "iopub.status.busy": "2023-04-11T23:22:15.681097Z",
     "iopub.status.idle": "2023-04-11T23:22:15.686591Z",
     "shell.execute_reply": "2023-04-11T23:22:15.685348Z"
    },
    "papermill": {
     "duration": 0.030261,
     "end_time": "2023-04-11T23:22:15.689652",
     "exception": false,
     "start_time": "2023-04-11T23:22:15.659391",
     "status": "completed"
    },
    "tags": []
   },
   "outputs": [],
   "source": [
    "import warnings\n",
    "warnings.filterwarnings(\"ignore\")"
   ]
  },
  {
   "cell_type": "markdown",
   "id": "6753a5ed",
   "metadata": {
    "papermill": {
     "duration": 0.019663,
     "end_time": "2023-04-11T23:22:15.734419",
     "exception": false,
     "start_time": "2023-04-11T23:22:15.714756",
     "status": "completed"
    },
    "tags": []
   },
   "source": [
    "## Veri Setini Çağırma ve Veri Setine Genel Bakış"
   ]
  },
  {
   "cell_type": "markdown",
   "id": "6a199841",
   "metadata": {
    "papermill": {
     "duration": 0.019773,
     "end_time": "2023-04-11T23:22:15.773917",
     "exception": false,
     "start_time": "2023-04-11T23:22:15.754144",
     "status": "completed"
    },
    "tags": []
   },
   "source": [
    "Veri çerçevemizi bulunduğumuz dizinden yükleyelim ve bir veri çerçevesi haline getirerek df değişkenine atayalım. (pd.read_csv(...csv))"
   ]
  },
  {
   "cell_type": "code",
   "execution_count": 3,
   "id": "fc23b268",
   "metadata": {
    "execution": {
     "iopub.execute_input": "2023-04-11T23:22:15.818892Z",
     "iopub.status.busy": "2023-04-11T23:22:15.818469Z",
     "iopub.status.idle": "2023-04-11T23:22:15.834219Z",
     "shell.execute_reply": "2023-04-11T23:22:15.832898Z"
    },
    "papermill": {
     "duration": 0.041541,
     "end_time": "2023-04-11T23:22:15.837140",
     "exception": false,
     "start_time": "2023-04-11T23:22:15.795599",
     "status": "completed"
    },
    "tags": []
   },
   "outputs": [],
   "source": [
    "df_iris = pd.read_csv(\"/kaggle/input/iris-flower-dataset/IRIS.csv\")"
   ]
  },
  {
   "cell_type": "markdown",
   "id": "90bd434b",
   "metadata": {
    "papermill": {
     "duration": 0.022913,
     "end_time": "2023-04-11T23:22:15.880117",
     "exception": false,
     "start_time": "2023-04-11T23:22:15.857204",
     "status": "completed"
    },
    "tags": []
   },
   "source": [
    "Veri çerçevesinin ilk 5 gözlemini görüntüleyelim."
   ]
  },
  {
   "cell_type": "code",
   "execution_count": 4,
   "id": "880cbe1c",
   "metadata": {
    "execution": {
     "iopub.execute_input": "2023-04-11T23:22:15.922792Z",
     "iopub.status.busy": "2023-04-11T23:22:15.922366Z",
     "iopub.status.idle": "2023-04-11T23:22:15.953287Z",
     "shell.execute_reply": "2023-04-11T23:22:15.951996Z"
    },
    "papermill": {
     "duration": 0.054756,
     "end_time": "2023-04-11T23:22:15.955764",
     "exception": false,
     "start_time": "2023-04-11T23:22:15.901008",
     "status": "completed"
    },
    "tags": []
   },
   "outputs": [
    {
     "data": {
      "text/html": [
       "<div>\n",
       "<style scoped>\n",
       "    .dataframe tbody tr th:only-of-type {\n",
       "        vertical-align: middle;\n",
       "    }\n",
       "\n",
       "    .dataframe tbody tr th {\n",
       "        vertical-align: top;\n",
       "    }\n",
       "\n",
       "    .dataframe thead th {\n",
       "        text-align: right;\n",
       "    }\n",
       "</style>\n",
       "<table border=\"1\" class=\"dataframe\">\n",
       "  <thead>\n",
       "    <tr style=\"text-align: right;\">\n",
       "      <th></th>\n",
       "      <th>sepal_length</th>\n",
       "      <th>sepal_width</th>\n",
       "      <th>petal_length</th>\n",
       "      <th>petal_width</th>\n",
       "      <th>species</th>\n",
       "    </tr>\n",
       "  </thead>\n",
       "  <tbody>\n",
       "    <tr>\n",
       "      <th>0</th>\n",
       "      <td>5.1</td>\n",
       "      <td>3.5</td>\n",
       "      <td>1.4</td>\n",
       "      <td>0.2</td>\n",
       "      <td>Iris-setosa</td>\n",
       "    </tr>\n",
       "    <tr>\n",
       "      <th>1</th>\n",
       "      <td>4.9</td>\n",
       "      <td>3.0</td>\n",
       "      <td>1.4</td>\n",
       "      <td>0.2</td>\n",
       "      <td>Iris-setosa</td>\n",
       "    </tr>\n",
       "    <tr>\n",
       "      <th>2</th>\n",
       "      <td>4.7</td>\n",
       "      <td>3.2</td>\n",
       "      <td>1.3</td>\n",
       "      <td>0.2</td>\n",
       "      <td>Iris-setosa</td>\n",
       "    </tr>\n",
       "    <tr>\n",
       "      <th>3</th>\n",
       "      <td>4.6</td>\n",
       "      <td>3.1</td>\n",
       "      <td>1.5</td>\n",
       "      <td>0.2</td>\n",
       "      <td>Iris-setosa</td>\n",
       "    </tr>\n",
       "    <tr>\n",
       "      <th>4</th>\n",
       "      <td>5.0</td>\n",
       "      <td>3.6</td>\n",
       "      <td>1.4</td>\n",
       "      <td>0.2</td>\n",
       "      <td>Iris-setosa</td>\n",
       "    </tr>\n",
       "  </tbody>\n",
       "</table>\n",
       "</div>"
      ],
      "text/plain": [
       "   sepal_length  sepal_width  petal_length  petal_width      species\n",
       "0           5.1          3.5           1.4          0.2  Iris-setosa\n",
       "1           4.9          3.0           1.4          0.2  Iris-setosa\n",
       "2           4.7          3.2           1.3          0.2  Iris-setosa\n",
       "3           4.6          3.1           1.5          0.2  Iris-setosa\n",
       "4           5.0          3.6           1.4          0.2  Iris-setosa"
      ]
     },
     "execution_count": 4,
     "metadata": {},
     "output_type": "execute_result"
    }
   ],
   "source": [
    "df_iris.head()"
   ]
  },
  {
   "cell_type": "markdown",
   "id": "49b65e24",
   "metadata": {
    "papermill": {
     "duration": 0.019465,
     "end_time": "2023-04-11T23:22:15.995313",
     "exception": false,
     "start_time": "2023-04-11T23:22:15.975848",
     "status": "completed"
    },
    "tags": []
   },
   "source": [
    "Veriseti incelendiğinde İris(Süsen) çiçeğinin yaprak uzunluk ve genişliği bilgilerinin yer aldığı görülmekte. Her bir satır, bir çiçeğe ait ölçüm değerlerini gösterir.\n",
    "\n",
    "Özellikler sırasıyla sepal-length (alt yaprak uzunluğu cm), sepal-with (alt yaprak genişliği cm), pedal-length (üst yaprak genişliği), pedal-width (üst yaprak uzunluğu).\n",
    "\n",
    "Son sütunda da görüleceği üzere sınıflarımız ise setosa, versicolor ve virginica."
   ]
  },
  {
   "cell_type": "markdown",
   "id": "423accd7",
   "metadata": {
    "papermill": {
     "duration": 0.019783,
     "end_time": "2023-04-11T23:22:16.035172",
     "exception": false,
     "start_time": "2023-04-11T23:22:16.015389",
     "status": "completed"
    },
    "tags": []
   },
   "source": [
    "Veri çerçevesinin kaç öznitelik ve kaç gözlemden oluştuğunu görüntüleyelim."
   ]
  },
  {
   "cell_type": "code",
   "execution_count": 5,
   "id": "42ff9112",
   "metadata": {
    "execution": {
     "iopub.execute_input": "2023-04-11T23:22:16.077162Z",
     "iopub.status.busy": "2023-04-11T23:22:16.075896Z",
     "iopub.status.idle": "2023-04-11T23:22:16.083595Z",
     "shell.execute_reply": "2023-04-11T23:22:16.082473Z"
    },
    "papermill": {
     "duration": 0.03136,
     "end_time": "2023-04-11T23:22:16.086215",
     "exception": false,
     "start_time": "2023-04-11T23:22:16.054855",
     "status": "completed"
    },
    "tags": []
   },
   "outputs": [
    {
     "data": {
      "text/plain": [
       "(150, 5)"
      ]
     },
     "execution_count": 5,
     "metadata": {},
     "output_type": "execute_result"
    }
   ],
   "source": [
    "df_iris.shape"
   ]
  },
  {
   "cell_type": "markdown",
   "id": "42ceb131",
   "metadata": {
    "papermill": {
     "duration": 0.019954,
     "end_time": "2023-04-11T23:22:16.126509",
     "exception": false,
     "start_time": "2023-04-11T23:22:16.106555",
     "status": "completed"
    },
    "tags": []
   },
   "source": [
    "Buradan da anlaşılabileceği gibi iris verisetimiz 150 satır(gözlem) 5 sütundan(öznitelik) oluşmaktadır.\n",
    "\n",
    "\"shape\" fonksiyonunun yanı sıra “columns” ve “dtypes” fonksiyonları ile set hakkında daha fazla bilgiye ulaşabiliriz."
   ]
  },
  {
   "cell_type": "code",
   "execution_count": 6,
   "id": "92e4aa5c",
   "metadata": {
    "execution": {
     "iopub.execute_input": "2023-04-11T23:22:16.168891Z",
     "iopub.status.busy": "2023-04-11T23:22:16.168460Z",
     "iopub.status.idle": "2023-04-11T23:22:16.175333Z",
     "shell.execute_reply": "2023-04-11T23:22:16.174473Z"
    },
    "papermill": {
     "duration": 0.030859,
     "end_time": "2023-04-11T23:22:16.177519",
     "exception": false,
     "start_time": "2023-04-11T23:22:16.146660",
     "status": "completed"
    },
    "tags": []
   },
   "outputs": [
    {
     "data": {
      "text/plain": [
       "Index(['sepal_length', 'sepal_width', 'petal_length', 'petal_width',\n",
       "       'species'],\n",
       "      dtype='object')"
      ]
     },
     "execution_count": 6,
     "metadata": {},
     "output_type": "execute_result"
    }
   ],
   "source": [
    "df_iris.columns"
   ]
  },
  {
   "cell_type": "code",
   "execution_count": 7,
   "id": "bc938dc1",
   "metadata": {
    "execution": {
     "iopub.execute_input": "2023-04-11T23:22:16.219822Z",
     "iopub.status.busy": "2023-04-11T23:22:16.219358Z",
     "iopub.status.idle": "2023-04-11T23:22:16.227448Z",
     "shell.execute_reply": "2023-04-11T23:22:16.226295Z"
    },
    "papermill": {
     "duration": 0.032195,
     "end_time": "2023-04-11T23:22:16.229812",
     "exception": false,
     "start_time": "2023-04-11T23:22:16.197617",
     "status": "completed"
    },
    "tags": []
   },
   "outputs": [
    {
     "data": {
      "text/plain": [
       "sepal_length    float64\n",
       "sepal_width     float64\n",
       "petal_length    float64\n",
       "petal_width     float64\n",
       "species          object\n",
       "dtype: object"
      ]
     },
     "execution_count": 7,
     "metadata": {},
     "output_type": "execute_result"
    }
   ],
   "source": [
    "df_iris.dtypes"
   ]
  },
  {
   "cell_type": "markdown",
   "id": "b48bec76",
   "metadata": {
    "papermill": {
     "duration": 0.019996,
     "end_time": "2023-04-11T23:22:16.270058",
     "exception": false,
     "start_time": "2023-04-11T23:22:16.250062",
     "status": "completed"
    },
    "tags": []
   },
   "source": [
    "sepal_length sepal_width petal_length ve petal_width değerlerinin \"float64\" ile ifade edildiği görülmekte. Yani nümerik ifadeler.\n",
    "\n",
    "Fakat species değerleri object veri türünde. Yani kategorik değişken."
   ]
  },
  {
   "cell_type": "markdown",
   "id": "ff43cb9f",
   "metadata": {
    "papermill": {
     "duration": 0.019729,
     "end_time": "2023-04-11T23:22:16.310143",
     "exception": false,
     "start_time": "2023-04-11T23:22:16.290414",
     "status": "completed"
    },
    "tags": []
   },
   "source": [
    "Veri çerçevesindeki değişkenlerin hangi tipte olduğunu ve bellek kullanımını görüntüleyelim."
   ]
  },
  {
   "cell_type": "markdown",
   "id": "45ab0f4b",
   "metadata": {
    "papermill": {
     "duration": 0.019755,
     "end_time": "2023-04-11T23:22:16.350095",
     "exception": false,
     "start_time": "2023-04-11T23:22:16.330340",
     "status": "completed"
    },
    "tags": []
   },
   "source": [
    "Ayrıca Pandas’ta bu üç bilginin hepsini hatta daha fazlasını içeren “info” fonksiyonu mevcut."
   ]
  },
  {
   "cell_type": "markdown",
   "id": "7690cabc",
   "metadata": {
    "papermill": {
     "duration": 0.019834,
     "end_time": "2023-04-11T23:22:16.390116",
     "exception": false,
     "start_time": "2023-04-11T23:22:16.370282",
     "status": "completed"
    },
    "tags": []
   },
   "source": [
    " Veri çerçevesindeki değişkenlerin türlerini ve bellek kullanımını info() metodu ile görüntüleyebiliriz."
   ]
  },
  {
   "cell_type": "code",
   "execution_count": 8,
   "id": "dd181224",
   "metadata": {
    "execution": {
     "iopub.execute_input": "2023-04-11T23:22:16.432641Z",
     "iopub.status.busy": "2023-04-11T23:22:16.432235Z",
     "iopub.status.idle": "2023-04-11T23:22:16.457369Z",
     "shell.execute_reply": "2023-04-11T23:22:16.455838Z"
    },
    "papermill": {
     "duration": 0.049718,
     "end_time": "2023-04-11T23:22:16.460103",
     "exception": false,
     "start_time": "2023-04-11T23:22:16.410385",
     "status": "completed"
    },
    "tags": []
   },
   "outputs": [
    {
     "name": "stdout",
     "output_type": "stream",
     "text": [
      "<class 'pandas.core.frame.DataFrame'>\n",
      "RangeIndex: 150 entries, 0 to 149\n",
      "Data columns (total 5 columns):\n",
      " #   Column        Non-Null Count  Dtype  \n",
      "---  ------        --------------  -----  \n",
      " 0   sepal_length  150 non-null    float64\n",
      " 1   sepal_width   150 non-null    float64\n",
      " 2   petal_length  150 non-null    float64\n",
      " 3   petal_width   150 non-null    float64\n",
      " 4   species       150 non-null    object \n",
      "dtypes: float64(4), object(1)\n",
      "memory usage: 6.0+ KB\n"
     ]
    }
   ],
   "source": [
    "df_iris.info()"
   ]
  },
  {
   "cell_type": "markdown",
   "id": "ab3a71c5",
   "metadata": {
    "papermill": {
     "duration": 0.020211,
     "end_time": "2023-04-11T23:22:16.501060",
     "exception": false,
     "start_time": "2023-04-11T23:22:16.480849",
     "status": "completed"
    },
    "tags": []
   },
   "source": [
    "İnceleme sonucunda 5 ayrı sütun,150 satırdan oluşan bir verisetiyle beraberiz. Sütun isimleri _'sepal_length', 'sepal_width', 'petal_length', 'petal_width','species'_. Ve her bir sütunun dtype'ı listelenmiş durumda. \n",
    "\n",
    "Verimizin hiçbir satırında **NULL** değer bulunmadığı da görülüyor. Ancak, verilerin cm cinsinden uzunluk olması gerektiği düşünüldüğünde, 0 cm veya negatif değerlerin girilmiş olması durumunda, burada eksik verilerin bulunabileceğini söyleyebiliriz. Veriseti incelerken bu durumları da göz önünde bulundurmamız gerekiyor. **NULL** değer bulunmadı diyerek incelemeye devam etmemeliyiz. Aykırı değerlere göz atarak kafamızdaki bu soru işaretlerini silebiliriz.\n",
    "\n"
   ]
  },
  {
   "cell_type": "markdown",
   "id": "e721460c",
   "metadata": {
    "papermill": {
     "duration": 0.02002,
     "end_time": "2023-04-11T23:22:16.541439",
     "exception": false,
     "start_time": "2023-04-11T23:22:16.521419",
     "status": "completed"
    },
    "tags": []
   },
   "source": [
    "Veri çerçevesindeki sayısal değişkenler için temel istatistik değerlerini görüntüleyelim.\n",
    "\n",
    "Standart sapma ve ortalama değerlerden çıkarımda bulunarak hangi değişkenlerin ne kadar varyansa sahip olduğu hakkında fikir yürütelim.\n",
    "\n",
    "Bunun için describe fonksiyonunu kullanacağım.\n",
    "\n",
    "Describe() fonksiyonu, veri çerçevesindeki sayısal değişkenlerin temel istatistiksel özelliklerini gösteren bir özet istatistikleri tablosu oluşturur. Bu özellikler, değişkenlerin ortalaması, standart sapması, minimum ve maksimum değerleri, çeyreklik değerleri ve gözlem sayısıdır."
   ]
  },
  {
   "cell_type": "code",
   "execution_count": 9,
   "id": "ab3be92d",
   "metadata": {
    "execution": {
     "iopub.execute_input": "2023-04-11T23:22:16.584156Z",
     "iopub.status.busy": "2023-04-11T23:22:16.583764Z",
     "iopub.status.idle": "2023-04-11T23:22:16.611072Z",
     "shell.execute_reply": "2023-04-11T23:22:16.610065Z"
    },
    "papermill": {
     "duration": 0.05202,
     "end_time": "2023-04-11T23:22:16.613748",
     "exception": false,
     "start_time": "2023-04-11T23:22:16.561728",
     "status": "completed"
    },
    "tags": []
   },
   "outputs": [
    {
     "data": {
      "text/html": [
       "<div>\n",
       "<style scoped>\n",
       "    .dataframe tbody tr th:only-of-type {\n",
       "        vertical-align: middle;\n",
       "    }\n",
       "\n",
       "    .dataframe tbody tr th {\n",
       "        vertical-align: top;\n",
       "    }\n",
       "\n",
       "    .dataframe thead th {\n",
       "        text-align: right;\n",
       "    }\n",
       "</style>\n",
       "<table border=\"1\" class=\"dataframe\">\n",
       "  <thead>\n",
       "    <tr style=\"text-align: right;\">\n",
       "      <th></th>\n",
       "      <th>sepal_length</th>\n",
       "      <th>sepal_width</th>\n",
       "      <th>petal_length</th>\n",
       "      <th>petal_width</th>\n",
       "    </tr>\n",
       "  </thead>\n",
       "  <tbody>\n",
       "    <tr>\n",
       "      <th>count</th>\n",
       "      <td>150.000000</td>\n",
       "      <td>150.000000</td>\n",
       "      <td>150.000000</td>\n",
       "      <td>150.000000</td>\n",
       "    </tr>\n",
       "    <tr>\n",
       "      <th>mean</th>\n",
       "      <td>5.843333</td>\n",
       "      <td>3.054000</td>\n",
       "      <td>3.758667</td>\n",
       "      <td>1.198667</td>\n",
       "    </tr>\n",
       "    <tr>\n",
       "      <th>std</th>\n",
       "      <td>0.828066</td>\n",
       "      <td>0.433594</td>\n",
       "      <td>1.764420</td>\n",
       "      <td>0.763161</td>\n",
       "    </tr>\n",
       "    <tr>\n",
       "      <th>min</th>\n",
       "      <td>4.300000</td>\n",
       "      <td>2.000000</td>\n",
       "      <td>1.000000</td>\n",
       "      <td>0.100000</td>\n",
       "    </tr>\n",
       "    <tr>\n",
       "      <th>25%</th>\n",
       "      <td>5.100000</td>\n",
       "      <td>2.800000</td>\n",
       "      <td>1.600000</td>\n",
       "      <td>0.300000</td>\n",
       "    </tr>\n",
       "    <tr>\n",
       "      <th>50%</th>\n",
       "      <td>5.800000</td>\n",
       "      <td>3.000000</td>\n",
       "      <td>4.350000</td>\n",
       "      <td>1.300000</td>\n",
       "    </tr>\n",
       "    <tr>\n",
       "      <th>75%</th>\n",
       "      <td>6.400000</td>\n",
       "      <td>3.300000</td>\n",
       "      <td>5.100000</td>\n",
       "      <td>1.800000</td>\n",
       "    </tr>\n",
       "    <tr>\n",
       "      <th>max</th>\n",
       "      <td>7.900000</td>\n",
       "      <td>4.400000</td>\n",
       "      <td>6.900000</td>\n",
       "      <td>2.500000</td>\n",
       "    </tr>\n",
       "  </tbody>\n",
       "</table>\n",
       "</div>"
      ],
      "text/plain": [
       "       sepal_length  sepal_width  petal_length  petal_width\n",
       "count    150.000000   150.000000    150.000000   150.000000\n",
       "mean       5.843333     3.054000      3.758667     1.198667\n",
       "std        0.828066     0.433594      1.764420     0.763161\n",
       "min        4.300000     2.000000      1.000000     0.100000\n",
       "25%        5.100000     2.800000      1.600000     0.300000\n",
       "50%        5.800000     3.000000      4.350000     1.300000\n",
       "75%        6.400000     3.300000      5.100000     1.800000\n",
       "max        7.900000     4.400000      6.900000     2.500000"
      ]
     },
     "execution_count": 9,
     "metadata": {},
     "output_type": "execute_result"
    }
   ],
   "source": [
    "df_iris.describe()"
   ]
  },
  {
   "cell_type": "markdown",
   "id": "c24892e8",
   "metadata": {
    "papermill": {
     "duration": 0.020621,
     "end_time": "2023-04-11T23:22:16.656801",
     "exception": false,
     "start_time": "2023-04-11T23:22:16.636180",
     "status": "completed"
    },
    "tags": []
   },
   "source": [
    "1. Sepal uzunluğu (sepal_length) için ortalama değer 5.84 ve standart sapması 0.83'tür.\n",
    "2. Sepal genişliği (sepal_width) için ortalama değer 3.05 ve standart sapması 0.43'tür.\n",
    "3. Petal uzunluğu (petal_length) için ortalama değer 3.76 ve standart sapması 1.76'dır.\n",
    "4. Petal genişliği (petal_width) için ortalama değer 1.19 ve standart sapması 0.76'dır.\n",
    "\n",
    "\n",
    "Ortalama ve standart sapma, bir değişkenin varyansı hakkında fikir verir. Standart sapma, ortalama etrafında verilerin ne kadar yayıldığını gösterir. Örneğin, petal uzunluğu değişkeni için standart sapma 1.76'dür, bu da verilerin ortalama etrafında oldukça yayıldığını ve yüksek bir varyansa sahip olduğunu gösterirken, sepal genişliği değişkeni için standart sapma 0.43'tür ve verilerin daha az yayıldığını ve daha düşük bir varyansa sahip olduğunun bir göstergesidir."
   ]
  },
  {
   "cell_type": "markdown",
   "id": "fd82f0f4",
   "metadata": {
    "papermill": {
     "duration": 0.021981,
     "end_time": "2023-04-11T23:22:16.700785",
     "exception": false,
     "start_time": "2023-04-11T23:22:16.678804",
     "status": "completed"
    },
    "tags": []
   },
   "source": [
    "## Eksik Veri Kontrolü"
   ]
  },
  {
   "cell_type": "markdown",
   "id": "adf0d300",
   "metadata": {
    "papermill": {
     "duration": 0.02101,
     "end_time": "2023-04-11T23:22:16.742530",
     "exception": false,
     "start_time": "2023-04-11T23:22:16.721520",
     "status": "completed"
    },
    "tags": []
   },
   "source": [
    "Veri çerçevesinde hangi öznitelikte kaç adet eksik değer olduğunu gözlemleyelim."
   ]
  },
  {
   "cell_type": "markdown",
   "id": "99a49c2d",
   "metadata": {
    "papermill": {
     "duration": 0.020349,
     "end_time": "2023-04-11T23:22:16.783957",
     "exception": false,
     "start_time": "2023-04-11T23:22:16.763608",
     "status": "completed"
    },
    "tags": []
   },
   "source": [
    "Gözlemlendiği üzere de her satırda 150 tane boş olmayan satır bulunmakta. Bu da demek oluyor ki verimizde eksik değer yok. Bunun sağlamasını da **isnull() ve sum()** fonksiyonları yardımıyıyla görebiliriz."
   ]
  },
  {
   "cell_type": "code",
   "execution_count": 10,
   "id": "c916d5dc",
   "metadata": {
    "execution": {
     "iopub.execute_input": "2023-04-11T23:22:16.828721Z",
     "iopub.status.busy": "2023-04-11T23:22:16.828172Z",
     "iopub.status.idle": "2023-04-11T23:22:16.836926Z",
     "shell.execute_reply": "2023-04-11T23:22:16.835997Z"
    },
    "papermill": {
     "duration": 0.033232,
     "end_time": "2023-04-11T23:22:16.838909",
     "exception": false,
     "start_time": "2023-04-11T23:22:16.805677",
     "status": "completed"
    },
    "tags": []
   },
   "outputs": [
    {
     "data": {
      "text/plain": [
       "sepal_length    0\n",
       "sepal_width     0\n",
       "petal_length    0\n",
       "petal_width     0\n",
       "species         0\n",
       "dtype: int64"
      ]
     },
     "execution_count": 10,
     "metadata": {},
     "output_type": "execute_result"
    }
   ],
   "source": [
    "df_iris.isnull().sum()"
   ]
  },
  {
   "cell_type": "markdown",
   "id": "b2976239",
   "metadata": {
    "papermill": {
     "duration": 0.020503,
     "end_time": "2023-04-11T23:22:16.880459",
     "exception": false,
     "start_time": "2023-04-11T23:22:16.859956",
     "status": "completed"
    },
    "tags": []
   },
   "source": [
    "## Veri Görselleştirme"
   ]
  },
  {
   "cell_type": "markdown",
   "id": "40faab62",
   "metadata": {
    "papermill": {
     "duration": 0.020412,
     "end_time": "2023-04-11T23:22:16.921823",
     "exception": false,
     "start_time": "2023-04-11T23:22:16.901411",
     "status": "completed"
    },
    "tags": []
   },
   "source": [
    "### Korelasyon"
   ]
  },
  {
   "cell_type": "markdown",
   "id": "eaea1a48",
   "metadata": {
    "papermill": {
     "duration": 0.020579,
     "end_time": "2023-04-11T23:22:16.963046",
     "exception": false,
     "start_time": "2023-04-11T23:22:16.942467",
     "status": "completed"
    },
    "tags": []
   },
   "source": [
    "Sayısal değişkenler arasında korelasyon olup olmadığını göstermek için korelasyon matrisi çizdirelim. Korelasyon katsayıları hakkında fikir yürütelim.\n",
    "\n",
    "En güçlü pozitif ilişki hangi iki değişken arasındadır?"
   ]
  },
  {
   "cell_type": "markdown",
   "id": "d87a3281",
   "metadata": {
    "execution": {
     "iopub.execute_input": "2023-04-07T00:22:52.005845Z",
     "iopub.status.busy": "2023-04-07T00:22:52.005316Z",
     "iopub.status.idle": "2023-04-07T00:22:52.014217Z",
     "shell.execute_reply": "2023-04-07T00:22:52.012446Z",
     "shell.execute_reply.started": "2023-04-07T00:22:52.005786Z"
    },
    "papermill": {
     "duration": 0.020619,
     "end_time": "2023-04-11T23:22:17.004581",
     "exception": false,
     "start_time": "2023-04-11T23:22:16.983962",
     "status": "completed"
    },
    "tags": []
   },
   "source": [
    "Korelasyon değişkenlerimiz arasındaki oran diyebiliriz. Oranlar -1 ve 1 arasında çıkar. -1 negatif ilişki , 1 pozitif ilişki ,0 ilişki yok demektir. İlişki 1e ne kadar yakınsa ilişki o kadar çoktur diyebiliriz.  \n",
    "\n",
    "Korelasyonu bulmak için corr() fonksiyonunu kullanıyorum.\n",
    "\n",
    "\n",
    "Korelasyon matrisindeki her bir değişken kendisiyle olan korelasyonu 1'dir çünkü bir değişkenin kendisiyle arasındaki ilişki tam olarak pozitiftir ve korelasyon katsayısı 1'dir. Diğer değişkenlerle arasındaki korelasyon ise farklı olabilir. Örneğin, sepal_width'in de petal_length'in de değişkenleri arasındaki korelasyon katsayısı 1'dir, **çünkü her bir değişken kendisiyle olan korelasyonu 1'dir.** Dolayısıyla, korelasyon matrisinde köşegen her zaman 1'dir, çünkü bir değişkenin kendisiyle olan korelasyonu **her zaman mükemmeldir.**"
   ]
  },
  {
   "cell_type": "code",
   "execution_count": 11,
   "id": "b7c72a05",
   "metadata": {
    "execution": {
     "iopub.execute_input": "2023-04-11T23:22:17.047671Z",
     "iopub.status.busy": "2023-04-11T23:22:17.047228Z",
     "iopub.status.idle": "2023-04-11T23:22:17.061382Z",
     "shell.execute_reply": "2023-04-11T23:22:17.060246Z"
    },
    "papermill": {
     "duration": 0.03843,
     "end_time": "2023-04-11T23:22:17.063770",
     "exception": false,
     "start_time": "2023-04-11T23:22:17.025340",
     "status": "completed"
    },
    "tags": []
   },
   "outputs": [
    {
     "data": {
      "text/html": [
       "<div>\n",
       "<style scoped>\n",
       "    .dataframe tbody tr th:only-of-type {\n",
       "        vertical-align: middle;\n",
       "    }\n",
       "\n",
       "    .dataframe tbody tr th {\n",
       "        vertical-align: top;\n",
       "    }\n",
       "\n",
       "    .dataframe thead th {\n",
       "        text-align: right;\n",
       "    }\n",
       "</style>\n",
       "<table border=\"1\" class=\"dataframe\">\n",
       "  <thead>\n",
       "    <tr style=\"text-align: right;\">\n",
       "      <th></th>\n",
       "      <th>sepal_length</th>\n",
       "      <th>sepal_width</th>\n",
       "      <th>petal_length</th>\n",
       "      <th>petal_width</th>\n",
       "    </tr>\n",
       "  </thead>\n",
       "  <tbody>\n",
       "    <tr>\n",
       "      <th>sepal_length</th>\n",
       "      <td>1.000000</td>\n",
       "      <td>-0.109369</td>\n",
       "      <td>0.871754</td>\n",
       "      <td>0.817954</td>\n",
       "    </tr>\n",
       "    <tr>\n",
       "      <th>sepal_width</th>\n",
       "      <td>-0.109369</td>\n",
       "      <td>1.000000</td>\n",
       "      <td>-0.420516</td>\n",
       "      <td>-0.356544</td>\n",
       "    </tr>\n",
       "    <tr>\n",
       "      <th>petal_length</th>\n",
       "      <td>0.871754</td>\n",
       "      <td>-0.420516</td>\n",
       "      <td>1.000000</td>\n",
       "      <td>0.962757</td>\n",
       "    </tr>\n",
       "    <tr>\n",
       "      <th>petal_width</th>\n",
       "      <td>0.817954</td>\n",
       "      <td>-0.356544</td>\n",
       "      <td>0.962757</td>\n",
       "      <td>1.000000</td>\n",
       "    </tr>\n",
       "  </tbody>\n",
       "</table>\n",
       "</div>"
      ],
      "text/plain": [
       "              sepal_length  sepal_width  petal_length  petal_width\n",
       "sepal_length      1.000000    -0.109369      0.871754     0.817954\n",
       "sepal_width      -0.109369     1.000000     -0.420516    -0.356544\n",
       "petal_length      0.871754    -0.420516      1.000000     0.962757\n",
       "petal_width       0.817954    -0.356544      0.962757     1.000000"
      ]
     },
     "execution_count": 11,
     "metadata": {},
     "output_type": "execute_result"
    }
   ],
   "source": [
    "df_iris.corr()"
   ]
  },
  {
   "cell_type": "markdown",
   "id": "02fa9287",
   "metadata": {
    "papermill": {
     "duration": 0.020481,
     "end_time": "2023-04-11T23:22:17.105712",
     "exception": false,
     "start_time": "2023-04-11T23:22:17.085231",
     "status": "completed"
    },
    "tags": []
   },
   "source": [
    "Korelasyon matrisine baktığımızda, en güçlü pozitif ilişki \"petal_length\" ve \"petal_width\" arasında görülür. Tablo incelendiğinde bu oranın 0.962757 olduğu gözükmekte. Yani 1'e oldukça yakın. Bu da, çiçeklerin taç yapraklarının uzunluğu arttıkça, taç yapraklarının genişliğinin de arttığını gösterir.\n",
    "\n",
    "Ayrıca, \"sepal_length\" ve \"petal_length\" arasında da 0.871754 ile pozitif bir ilişki vardır, ancak \"petal_length\" ve \"petal_width\" arasındaki ilişki (0.96) daha güçlüdür.\n",
    "\n",
    "Bununla birlikte, \"sepal_length\" ve \"sepal_width\" arasında neredeyse hiç ilişki yoktur (-0.109). Yani bitkinin çanak yaprağının boyuyla genişliğinin ilişkisi oldukça düşüktür."
   ]
  },
  {
   "cell_type": "markdown",
   "id": "0b6b8e2f",
   "metadata": {
    "papermill": {
     "duration": 0.020824,
     "end_time": "2023-04-11T23:22:17.147915",
     "exception": false,
     "start_time": "2023-04-11T23:22:17.127091",
     "status": "completed"
    },
    "tags": []
   },
   "source": [
    "Bizim daha fazla değişkenimiz varken neden burada 4 değişken gözüküyor?\n",
    "\n",
    "Çünkü korelasyon __kategorik__ değişkenlerde hesaplanamaz.\n",
    "\n",
    "Peki bu veri setindeki kategorik değişkenler ne? Bunu gözlemlemek için tekrardan veri setini çağıralım"
   ]
  },
  {
   "cell_type": "code",
   "execution_count": 12,
   "id": "cb44390f",
   "metadata": {
    "execution": {
     "iopub.execute_input": "2023-04-11T23:22:17.191652Z",
     "iopub.status.busy": "2023-04-11T23:22:17.191204Z",
     "iopub.status.idle": "2023-04-11T23:22:17.204211Z",
     "shell.execute_reply": "2023-04-11T23:22:17.203419Z"
    },
    "papermill": {
     "duration": 0.037565,
     "end_time": "2023-04-11T23:22:17.206421",
     "exception": false,
     "start_time": "2023-04-11T23:22:17.168856",
     "status": "completed"
    },
    "tags": []
   },
   "outputs": [
    {
     "data": {
      "text/html": [
       "<div>\n",
       "<style scoped>\n",
       "    .dataframe tbody tr th:only-of-type {\n",
       "        vertical-align: middle;\n",
       "    }\n",
       "\n",
       "    .dataframe tbody tr th {\n",
       "        vertical-align: top;\n",
       "    }\n",
       "\n",
       "    .dataframe thead th {\n",
       "        text-align: right;\n",
       "    }\n",
       "</style>\n",
       "<table border=\"1\" class=\"dataframe\">\n",
       "  <thead>\n",
       "    <tr style=\"text-align: right;\">\n",
       "      <th></th>\n",
       "      <th>sepal_length</th>\n",
       "      <th>sepal_width</th>\n",
       "      <th>petal_length</th>\n",
       "      <th>petal_width</th>\n",
       "      <th>species</th>\n",
       "    </tr>\n",
       "  </thead>\n",
       "  <tbody>\n",
       "    <tr>\n",
       "      <th>0</th>\n",
       "      <td>5.1</td>\n",
       "      <td>3.5</td>\n",
       "      <td>1.4</td>\n",
       "      <td>0.2</td>\n",
       "      <td>Iris-setosa</td>\n",
       "    </tr>\n",
       "    <tr>\n",
       "      <th>1</th>\n",
       "      <td>4.9</td>\n",
       "      <td>3.0</td>\n",
       "      <td>1.4</td>\n",
       "      <td>0.2</td>\n",
       "      <td>Iris-setosa</td>\n",
       "    </tr>\n",
       "    <tr>\n",
       "      <th>2</th>\n",
       "      <td>4.7</td>\n",
       "      <td>3.2</td>\n",
       "      <td>1.3</td>\n",
       "      <td>0.2</td>\n",
       "      <td>Iris-setosa</td>\n",
       "    </tr>\n",
       "    <tr>\n",
       "      <th>3</th>\n",
       "      <td>4.6</td>\n",
       "      <td>3.1</td>\n",
       "      <td>1.5</td>\n",
       "      <td>0.2</td>\n",
       "      <td>Iris-setosa</td>\n",
       "    </tr>\n",
       "    <tr>\n",
       "      <th>4</th>\n",
       "      <td>5.0</td>\n",
       "      <td>3.6</td>\n",
       "      <td>1.4</td>\n",
       "      <td>0.2</td>\n",
       "      <td>Iris-setosa</td>\n",
       "    </tr>\n",
       "  </tbody>\n",
       "</table>\n",
       "</div>"
      ],
      "text/plain": [
       "   sepal_length  sepal_width  petal_length  petal_width      species\n",
       "0           5.1          3.5           1.4          0.2  Iris-setosa\n",
       "1           4.9          3.0           1.4          0.2  Iris-setosa\n",
       "2           4.7          3.2           1.3          0.2  Iris-setosa\n",
       "3           4.6          3.1           1.5          0.2  Iris-setosa\n",
       "4           5.0          3.6           1.4          0.2  Iris-setosa"
      ]
     },
     "execution_count": 12,
     "metadata": {},
     "output_type": "execute_result"
    }
   ],
   "source": [
    "df_iris.head()"
   ]
  },
  {
   "cell_type": "markdown",
   "id": "8c58b599",
   "metadata": {
    "papermill": {
     "duration": 0.020729,
     "end_time": "2023-04-11T23:22:17.248625",
     "exception": false,
     "start_time": "2023-04-11T23:22:17.227896",
     "status": "completed"
    },
    "tags": []
   },
   "source": [
    "Görüldüğü üzere \"species\" değişkeni kategorik değişken ve bu yüzden korelasyon grafiğinde yer almadı.\n",
    "\n",
    "Korelasyonda da hesaplayabilmek için __kategorik değerler değil nümerik değer__ olmalıdır.Korelasyonda yalnızca nümerik değerleri inceleyebiliriz."
   ]
  },
  {
   "cell_type": "markdown",
   "id": "8550f1d2",
   "metadata": {
    "papermill": {
     "duration": 0.021925,
     "end_time": "2023-04-11T23:22:17.291700",
     "exception": false,
     "start_time": "2023-04-11T23:22:17.269775",
     "status": "completed"
    },
    "tags": []
   },
   "source": [
    "Korelasyon katsayılarını daha iyi okuyabilmek için ısı haritası çizdirelim.\n",
    "\n",
    "Isı haritasını çizebilmek için matplotlib kütüphanesini tanımlamamız gerekiyor. plt kısaltmasıyla matplotlib kütüphanesini import ediyorum."
   ]
  },
  {
   "cell_type": "code",
   "execution_count": 13,
   "id": "edf874e0",
   "metadata": {
    "execution": {
     "iopub.execute_input": "2023-04-11T23:22:17.336420Z",
     "iopub.status.busy": "2023-04-11T23:22:17.336005Z",
     "iopub.status.idle": "2023-04-11T23:22:17.340538Z",
     "shell.execute_reply": "2023-04-11T23:22:17.339548Z"
    },
    "papermill": {
     "duration": 0.029335,
     "end_time": "2023-04-11T23:22:17.342638",
     "exception": false,
     "start_time": "2023-04-11T23:22:17.313303",
     "status": "completed"
    },
    "tags": []
   },
   "outputs": [],
   "source": [
    "import matplotlib.pyplot as plt"
   ]
  },
  {
   "cell_type": "code",
   "execution_count": 14,
   "id": "3b9f9271",
   "metadata": {
    "execution": {
     "iopub.execute_input": "2023-04-11T23:22:17.386680Z",
     "iopub.status.busy": "2023-04-11T23:22:17.386178Z",
     "iopub.status.idle": "2023-04-11T23:22:17.779548Z",
     "shell.execute_reply": "2023-04-11T23:22:17.778346Z"
    },
    "papermill": {
     "duration": 0.418588,
     "end_time": "2023-04-11T23:22:17.782398",
     "exception": false,
     "start_time": "2023-04-11T23:22:17.363810",
     "status": "completed"
    },
    "tags": []
   },
   "outputs": [
    {
     "data": {
      "image/png": "[encoded data removed]",
      "text/plain": [
       "<Figure size 800x800 with 2 Axes>"
      ]
     },
     "metadata": {},
     "output_type": "display_data"
    }
   ],
   "source": [
    "plt.figure(figsize = (8,8))\n",
    "plt.title(\"Korelasyon Isı Haritası\");\n",
    "sns.heatmap(df_iris.corr() , cmap=\"pink\" , annot=True);"
   ]
  },
  {
   "cell_type": "markdown",
   "id": "01f2c3f0",
   "metadata": {
    "papermill": {
     "duration": 0.022283,
     "end_time": "2023-04-11T23:22:17.826780",
     "exception": false,
     "start_time": "2023-04-11T23:22:17.804497",
     "status": "completed"
    },
    "tags": []
   },
   "source": [
    "Renk skalasına göre; renk tonu açık olduğunda, değişkenler arasındaki ilişki o kadar yüksektir. Harita incelendiğinde, tekrardan en güçlü ilişkinin (1'den sonra) 0.96 ile \"petal_length\" ve \"petal_width\" arasında olduğu görülmektedir."
   ]
  },
  {
   "cell_type": "markdown",
   "id": "4f1e8e34",
   "metadata": {
    "papermill": {
     "duration": 0.02169,
     "end_time": "2023-04-11T23:22:17.870780",
     "exception": false,
     "start_time": "2023-04-11T23:22:17.849090",
     "status": "completed"
    },
    "tags": []
   },
   "source": [
    "Veri çerçevemizin hedef değişkeninin \"variety\" benzersiz değerlerini görüntüleyelim."
   ]
  },
  {
   "cell_type": "code",
   "execution_count": 15,
   "id": "e8301913",
   "metadata": {
    "execution": {
     "iopub.execute_input": "2023-04-11T23:22:17.916623Z",
     "iopub.status.busy": "2023-04-11T23:22:17.916191Z",
     "iopub.status.idle": "2023-04-11T23:22:17.922711Z",
     "shell.execute_reply": "2023-04-11T23:22:17.921845Z"
    },
    "papermill": {
     "duration": 0.032272,
     "end_time": "2023-04-11T23:22:17.925066",
     "exception": false,
     "start_time": "2023-04-11T23:22:17.892794",
     "status": "completed"
    },
    "tags": []
   },
   "outputs": [
    {
     "data": {
      "text/plain": [
       "Index(['sepal_length', 'sepal_width', 'petal_length', 'petal_width',\n",
       "       'species'],\n",
       "      dtype='object')"
      ]
     },
     "execution_count": 15,
     "metadata": {},
     "output_type": "execute_result"
    }
   ],
   "source": [
    "df_iris.columns"
   ]
  },
  {
   "cell_type": "code",
   "execution_count": 16,
   "id": "70a3b462",
   "metadata": {
    "execution": {
     "iopub.execute_input": "2023-04-11T23:22:17.971695Z",
     "iopub.status.busy": "2023-04-11T23:22:17.971066Z",
     "iopub.status.idle": "2023-04-11T23:22:17.976951Z",
     "shell.execute_reply": "2023-04-11T23:22:17.975564Z"
    },
    "papermill": {
     "duration": 0.032405,
     "end_time": "2023-04-11T23:22:17.979543",
     "exception": false,
     "start_time": "2023-04-11T23:22:17.947138",
     "status": "completed"
    },
    "tags": []
   },
   "outputs": [
    {
     "name": "stdout",
     "output_type": "stream",
     "text": [
      "['Iris-setosa' 'Iris-versicolor' 'Iris-virginica']\n"
     ]
    }
   ],
   "source": [
    "print(df_iris[\"species\"].unique())"
   ]
  },
  {
   "cell_type": "markdown",
   "id": "9996bf02",
   "metadata": {
    "papermill": {
     "duration": 0.022555,
     "end_time": "2023-04-11T23:22:18.024381",
     "exception": false,
     "start_time": "2023-04-11T23:22:18.001826",
     "status": "completed"
    },
    "tags": []
   },
   "source": [
    "Veri çerçevemizin hedef değişkeninin \"variety\" benzersiz kaç adet değer içerdiğini görüntüleyelim.\n",
    "\n",
    "Bunun için Pandas kütüphanesinin \"nunique()\" fonksiyonu ile veri çerçevesinin belirtilen sütununun benzersiz değerlerinin sayısı bulunabilir.\n",
    "\n",
    "Görüldüğü üzere 3 adet benzersiz değişken bulunuyor."
   ]
  },
  {
   "cell_type": "code",
   "execution_count": 17,
   "id": "8b52816d",
   "metadata": {
    "execution": {
     "iopub.execute_input": "2023-04-11T23:22:18.071456Z",
     "iopub.status.busy": "2023-04-11T23:22:18.071003Z",
     "iopub.status.idle": "2023-04-11T23:22:18.077290Z",
     "shell.execute_reply": "2023-04-11T23:22:18.076163Z"
    },
    "papermill": {
     "duration": 0.033199,
     "end_time": "2023-04-11T23:22:18.079603",
     "exception": false,
     "start_time": "2023-04-11T23:22:18.046404",
     "status": "completed"
    },
    "tags": []
   },
   "outputs": [
    {
     "name": "stdout",
     "output_type": "stream",
     "text": [
      "3 adet benzersiz değişkeni vardır.\n"
     ]
    }
   ],
   "source": [
    "print(df_iris['species'].nunique() , \"adet benzersiz değişkeni vardır.\")"
   ]
  },
  {
   "cell_type": "markdown",
   "id": "a3e12d8e",
   "metadata": {
    "papermill": {
     "duration": 0.021912,
     "end_time": "2023-04-11T23:22:18.123647",
     "exception": false,
     "start_time": "2023-04-11T23:22:18.101735",
     "status": "completed"
    },
    "tags": []
   },
   "source": [
    "Veri çerçevesindeki sepal.width ve sepal.length değişkenlerinin sürekli olduğunu görüyoruz. Bu iki sürekli veriyi görselleştirmek için önce scatterplot kullanalım."
   ]
  },
  {
   "cell_type": "code",
   "execution_count": 18,
   "id": "45ed3d6d",
   "metadata": {
    "execution": {
     "iopub.execute_input": "2023-04-11T23:22:18.169624Z",
     "iopub.status.busy": "2023-04-11T23:22:18.169183Z",
     "iopub.status.idle": "2023-04-11T23:22:18.406589Z",
     "shell.execute_reply": "2023-04-11T23:22:18.405370Z"
    },
    "papermill": {
     "duration": 0.263631,
     "end_time": "2023-04-11T23:22:18.409365",
     "exception": false,
     "start_time": "2023-04-11T23:22:18.145734",
     "status": "completed"
    },
    "tags": []
   },
   "outputs": [
    {
     "data": {
      "image/png": "[encoded data removed]",
      "text/plain": [
       "<Figure size 640x480 with 1 Axes>"
      ]
     },
     "metadata": {},
     "output_type": "display_data"
    }
   ],
   "source": [
    "plt.title(\"Sepal Width ve Sepal Length\")\n",
    "plt.scatter(x=df_iris[\"sepal_width\"], y=df_iris[\"sepal_length\"] , color=\"orange\")\n",
    "plt.xlabel(\"Sepal Width\")\n",
    "plt.ylabel(\"Sepal Length\")\n",
    "plt.show()"
   ]
  },
  {
   "cell_type": "markdown",
   "id": "4603120d",
   "metadata": {
    "papermill": {
     "duration": 0.022123,
     "end_time": "2023-04-11T23:22:18.454763",
     "exception": false,
     "start_time": "2023-04-11T23:22:18.432640",
     "status": "completed"
    },
    "tags": []
   },
   "source": [
    "Sepal Width değişkeninin değerleri 2.5-3.5 aralığında yoğun olarak gözükmektedir. Length değişkeninin değerleri ise 5.5-7.0 arasında yoğunlaşmaktadır diyebiliriz."
   ]
  },
  {
   "cell_type": "markdown",
   "id": "21b3d27c",
   "metadata": {
    "papermill": {
     "duration": 0.022451,
     "end_time": "2023-04-11T23:22:18.499780",
     "exception": false,
     "start_time": "2023-04-11T23:22:18.477329",
     "status": "completed"
    },
    "tags": []
   },
   "source": [
    "Aynı iki veriyi daha farklı bir açıdan frekanslarıyla incelemek için jointplot kullanarak görselleştirelim. "
   ]
  },
  {
   "cell_type": "code",
   "execution_count": 19,
   "id": "7c3e7de6",
   "metadata": {
    "execution": {
     "iopub.execute_input": "2023-04-11T23:22:18.547704Z",
     "iopub.status.busy": "2023-04-11T23:22:18.546536Z",
     "iopub.status.idle": "2023-04-11T23:22:19.174022Z",
     "shell.execute_reply": "2023-04-11T23:22:19.172748Z"
    },
    "papermill": {
     "duration": 0.654392,
     "end_time": "2023-04-11T23:22:19.176790",
     "exception": false,
     "start_time": "2023-04-11T23:22:18.522398",
     "status": "completed"
    },
    "tags": []
   },
   "outputs": [
    {
     "data": {
      "image/png": "[encoded data removed]",
      "text/plain": [
       "<Figure size 600x600 with 3 Axes>"
      ]
     },
     "metadata": {},
     "output_type": "display_data"
    }
   ],
   "source": [
    "sns.jointplot(x=\"sepal_width\" , y=\"sepal_length\" , kind=\"scatter\", data=df_iris);"
   ]
  },
  {
   "cell_type": "markdown",
   "id": "d5e41599",
   "metadata": {
    "papermill": {
     "duration": 0.022922,
     "end_time": "2023-04-11T23:22:19.223528",
     "exception": false,
     "start_time": "2023-04-11T23:22:19.200606",
     "status": "completed"
    },
    "tags": []
   },
   "source": [
    "Bu grafiğe bakarak bir önceki yorumumun kısmen doğru olduğunu görüyorum. Çünkü ilk grafikte length'in değerlerinin 4.5-5.0 arasında yoğunlaştığını görememiştim. jointplot grafiği yorum yapmak için daha mantıklı bir grafik. "
   ]
  },
  {
   "cell_type": "markdown",
   "id": "fd10f0c2",
   "metadata": {
    "papermill": {
     "duration": 0.0229,
     "end_time": "2023-04-11T23:22:19.269804",
     "exception": false,
     "start_time": "2023-04-11T23:22:19.246904",
     "status": "completed"
    },
    "tags": []
   },
   "source": [
    "Aynı iki veriyi scatterplot ile tekrardan görselleştirelim fakat bu sefer \"variety\" parametresi ile hedef değişkenine göre kırdıralım. \n",
    "\n",
    "3 farklı renk arasında sepal değişkenleriyle bir kümeleme yapılabilir mi? Ne kadar ayırt edilebilir bunun üzerine düşünelim."
   ]
  },
  {
   "cell_type": "code",
   "execution_count": 20,
   "id": "75bfcfe5",
   "metadata": {
    "execution": {
     "iopub.execute_input": "2023-04-11T23:22:19.320937Z",
     "iopub.status.busy": "2023-04-11T23:22:19.320153Z",
     "iopub.status.idle": "2023-04-11T23:22:19.635941Z",
     "shell.execute_reply": "2023-04-11T23:22:19.634714Z"
    },
    "papermill": {
     "duration": 0.344448,
     "end_time": "2023-04-11T23:22:19.638761",
     "exception": false,
     "start_time": "2023-04-11T23:22:19.294313",
     "status": "completed"
    },
    "tags": []
   },
   "outputs": [
    {
     "data": {
      "image/png": "[encoded data removed]",
      "text/plain": [
       "<Figure size 640x480 with 1 Axes>"
      ]
     },
     "metadata": {},
     "output_type": "display_data"
    }
   ],
   "source": [
    "sns.scatterplot(x=\"sepal_length\", y=\"sepal_width\", hue=\"species\", data=df_iris);\n",
    "plt.title(\"Sepal için Nokta Grafiği\");\n",
    "plt.show()"
   ]
  },
  {
   "cell_type": "markdown",
   "id": "bad97560",
   "metadata": {
    "papermill": {
     "duration": 0.024162,
     "end_time": "2023-04-11T23:22:19.687038",
     "exception": false,
     "start_time": "2023-04-11T23:22:19.662876",
     "status": "completed"
    },
    "tags": []
   },
   "source": [
    "Grafikte 3 farklı renk arasında sepal değişkenleriyle bir kümeleme yapılabildiği görülmektedir. Görüldüğü üzere lacivert renkli \"Setosa\" türü diğerlerinden daha iyi ayrılmaktadır, ancak turuncu renkli \"Versicolor\" ve  yeşil renkl,\"Virginica\" türleri birbirine daha çok benzemektedir. Daha çok iç içe geçmiş durumdadır. Bu nedenle, sadece sepal özellikleri kullanarak türleri kesin olarak ayırt etmek zordur. Başka özellikleri de analize dahil ederek yorumlamamız gerekir."
   ]
  },
  {
   "cell_type": "markdown",
   "id": "50e42781",
   "metadata": {
    "papermill": {
     "duration": 0.023845,
     "end_time": "2023-04-11T23:22:19.735236",
     "exception": false,
     "start_time": "2023-04-11T23:22:19.711391",
     "status": "completed"
    },
    "tags": []
   },
   "source": [
    "Mesela scatterplot fonksiyonu ile \"petal_length\" ve \"petal_width\" değişkenini incelersek durum nasıl olur?"
   ]
  },
  {
   "cell_type": "code",
   "execution_count": 21,
   "id": "353c5d14",
   "metadata": {
    "execution": {
     "iopub.execute_input": "2023-04-11T23:22:19.786006Z",
     "iopub.status.busy": "2023-04-11T23:22:19.784947Z",
     "iopub.status.idle": "2023-04-11T23:22:20.143398Z",
     "shell.execute_reply": "2023-04-11T23:22:20.142080Z"
    },
    "papermill": {
     "duration": 0.386663,
     "end_time": "2023-04-11T23:22:20.146030",
     "exception": false,
     "start_time": "2023-04-11T23:22:19.759367",
     "status": "completed"
    },
    "tags": []
   },
   "outputs": [
    {
     "data": {
      "image/png": "[encoded data removed]",
      "text/plain": [
       "<Figure size 640x480 with 1 Axes>"
      ]
     },
     "metadata": {},
     "output_type": "display_data"
    }
   ],
   "source": [
    "sns.scatterplot(x=\"petal_length\", y=\"petal_width\", hue=\"species\", data=df_iris);"
   ]
  },
  {
   "cell_type": "markdown",
   "id": "0365b566",
   "metadata": {
    "papermill": {
     "duration": 0.024696,
     "end_time": "2023-04-11T23:22:20.195940",
     "exception": false,
     "start_time": "2023-04-11T23:22:20.171244",
     "status": "completed"
    },
    "tags": []
   },
   "source": [
    "Bu scatterplot grafiği, petal uzunluğu (x ekseni) ve petal genişliği (y ekseni) değişkenlerinin çiçek türüne (setosa, versicolor ve virginica) göre dağılımını gösterir. Her tür farklı bir renk ile temsil edilir. Görselden, virginica çiçeğinin genellikle diğer iki türden daha büyük petallere sahip olduğu ve versicolor ve setosa'nın birbirine benzer boyutlara sahip oldukları görülebilir. Ayrıca, setosa çiçeği ile diğer iki tür arasında net bir ayrım gözlemlenebilir.\n",
    "\n",
    "Yani anlaşılacağı üzere Setosa çiçeği gerek petal gerek ise sepal olarak diğer iki çiçek türünden ayrışıyor."
   ]
  },
  {
   "cell_type": "markdown",
   "id": "220a4227",
   "metadata": {
    "papermill": {
     "duration": 0.024618,
     "end_time": "2023-04-11T23:22:20.245436",
     "exception": false,
     "start_time": "2023-04-11T23:22:20.220818",
     "status": "completed"
    },
    "tags": []
   },
   "source": [
    "value_counts() fonksiyonu ile veri çerçevemizin ne kadar dengeli dağıldığını sorgulayalım. "
   ]
  },
  {
   "cell_type": "code",
   "execution_count": 22,
   "id": "cd28f987",
   "metadata": {
    "execution": {
     "iopub.execute_input": "2023-04-11T23:22:20.297363Z",
     "iopub.status.busy": "2023-04-11T23:22:20.296943Z",
     "iopub.status.idle": "2023-04-11T23:22:20.306065Z",
     "shell.execute_reply": "2023-04-11T23:22:20.304966Z"
    },
    "papermill": {
     "duration": 0.037752,
     "end_time": "2023-04-11T23:22:20.308275",
     "exception": false,
     "start_time": "2023-04-11T23:22:20.270523",
     "status": "completed"
    },
    "tags": []
   },
   "outputs": [
    {
     "data": {
      "text/plain": [
       "Iris-setosa        50\n",
       "Iris-versicolor    50\n",
       "Iris-virginica     50\n",
       "Name: species, dtype: int64"
      ]
     },
     "execution_count": 22,
     "metadata": {},
     "output_type": "execute_result"
    }
   ],
   "source": [
    "df_iris[\"species\"].value_counts()"
   ]
  },
  {
   "cell_type": "markdown",
   "id": "c6ce9ada",
   "metadata": {
    "papermill": {
     "duration": 0.024565,
     "end_time": "2023-04-11T23:22:20.357836",
     "exception": false,
     "start_time": "2023-04-11T23:22:20.333271",
     "status": "completed"
    },
    "tags": []
   },
   "source": [
    "species değişkenindeki her bir sınıfın veri çerçevesinde kaç kez tekrarlandığını sayar ve sonuçları sınıf adıyla birlikte gösterir. Görüldüğü üzere her çeşitten 50 adet bulunuyor. Bu da demek oluyor ki verisetimiz dengeli dağılmış.\n",
    "\n",
    "Eğer her sınıftan farklı sayıda örnek olsaydı, bu dengesiz bir dağılım olarak yorumlanabilirdi."
   ]
  },
  {
   "cell_type": "markdown",
   "id": "2ed28606",
   "metadata": {
    "papermill": {
     "duration": 0.024553,
     "end_time": "2023-04-11T23:22:20.407437",
     "exception": false,
     "start_time": "2023-04-11T23:22:20.382884",
     "status": "completed"
    },
    "tags": []
   },
   "source": [
    "Keman grafiği çizdirerek sepal.width değişkeninin dağılımını inceleyin. \n",
    "\n",
    "Söz konusu dağılım bizim için ne ifade ediyor, normal bir dağılım olduğunu söyleyebilir miyiz?"
   ]
  },
  {
   "cell_type": "code",
   "execution_count": 23,
   "id": "daad4efa",
   "metadata": {
    "execution": {
     "iopub.execute_input": "2023-04-11T23:22:20.459655Z",
     "iopub.status.busy": "2023-04-11T23:22:20.458838Z",
     "iopub.status.idle": "2023-04-11T23:22:20.672899Z",
     "shell.execute_reply": "2023-04-11T23:22:20.672026Z"
    },
    "papermill": {
     "duration": 0.24289,
     "end_time": "2023-04-11T23:22:20.675179",
     "exception": false,
     "start_time": "2023-04-11T23:22:20.432289",
     "status": "completed"
    },
    "tags": []
   },
   "outputs": [
    {
     "data": {
      "image/png": "[encoded data removed]",
      "text/plain": [
       "<Figure size 640x480 with 1 Axes>"
      ]
     },
     "metadata": {},
     "output_type": "display_data"
    }
   ],
   "source": [
    "sns.violinplot(x=\"sepal_width\", data=df_iris , color=\"brown\");"
   ]
  },
  {
   "cell_type": "markdown",
   "id": "e2a30397",
   "metadata": {
    "papermill": {
     "duration": 0.025146,
     "end_time": "2023-04-11T23:22:20.726504",
     "exception": false,
     "start_time": "2023-04-11T23:22:20.701358",
     "status": "completed"
    },
    "tags": []
   },
   "source": [
    "Keman grafiği, veri dağılımının yoğunluk eğrisini gösteren ve aynı zamanda veri dağılımının simetrik mi yoksa çarpık mı olduğunu gösteren bir görselleştirme aracıdır.\n",
    "\n",
    "Sepal.width değişkeninin keman grafiğine bakarak, verinin normal bir dağılım göstermediği, hafif bir çarpıklık olduğu söylenebilir. Grafiğin sol tarafındaki kuyruk daha uzun ve çıkıntılıdır. Bu nedenle, sepal.width değişkeninin normal bir dağılım göstermediğini söyleyebiliriz.\n",
    "\n",
    " Grafiğin merkezindeki beyaz nokta, değişkenin ortalamasını gösterirken, çizginin uzunluğu, değişkenin dağılımını ifade eder. Burada sepal_width değişkeninin yoğunluklu olarak 2.5 ile 3.5 arasında dağıldığı ve geniş bir dağılıma sahip olduğu görülmektedir. Ayrıca, birkaç aykırı değer de görülmektedir."
   ]
  },
  {
   "cell_type": "markdown",
   "id": "da1c52f0",
   "metadata": {
    "papermill": {
     "duration": 0.025106,
     "end_time": "2023-04-11T23:22:20.776786",
     "exception": false,
     "start_time": "2023-04-11T23:22:20.751680",
     "status": "completed"
    },
    "tags": []
   },
   "source": [
    "Daha iyi anlayabilmek için sepal.width üzerine bir distplot çizdirelim."
   ]
  },
  {
   "cell_type": "code",
   "execution_count": 24,
   "id": "7acceb82",
   "metadata": {
    "execution": {
     "iopub.execute_input": "2023-04-11T23:22:20.829886Z",
     "iopub.status.busy": "2023-04-11T23:22:20.829335Z",
     "iopub.status.idle": "2023-04-11T23:22:21.115827Z",
     "shell.execute_reply": "2023-04-11T23:22:21.114584Z"
    },
    "papermill": {
     "duration": 0.31657,
     "end_time": "2023-04-11T23:22:21.118663",
     "exception": false,
     "start_time": "2023-04-11T23:22:20.802093",
     "status": "completed"
    },
    "tags": []
   },
   "outputs": [
    {
     "data": {
      "image/png": "[encoded data removed]",
      "text/plain": [
       "<Figure size 640x480 with 1 Axes>"
      ]
     },
     "metadata": {},
     "output_type": "display_data"
    }
   ],
   "source": [
    "sns.distplot(df_iris['sepal_width']);"
   ]
  },
  {
   "cell_type": "markdown",
   "id": "0b9df887",
   "metadata": {
    "papermill": {
     "duration": 0.02581,
     "end_time": "2023-04-11T23:22:21.170525",
     "exception": false,
     "start_time": "2023-04-11T23:22:21.144715",
     "status": "completed"
    },
    "tags": []
   },
   "source": [
    "Histogram, verilerin frekans dağılımını belirlerken, çizgi grafiği verilerin yoğunluğunu gösterir. Bu grafikte, sepal_width sütunundaki verilerin normal dağılıma yakın bir dağılım gösterdiği, ancak bazı aykırı değerlerin de olduğu görülebilir."
   ]
  },
  {
   "cell_type": "markdown",
   "id": "448d6750",
   "metadata": {
    "papermill": {
     "duration": 0.025467,
     "end_time": "2023-04-11T23:22:21.221966",
     "exception": false,
     "start_time": "2023-04-11T23:22:21.196499",
     "status": "completed"
    },
    "tags": []
   },
   "source": [
    "Üç çiçek türü için üç farklı keman grafiğini sepal.length değişkeninin dağılımı üzerine tek bir satır ile görselleştirelim."
   ]
  },
  {
   "cell_type": "code",
   "execution_count": 25,
   "id": "bc808e7c",
   "metadata": {
    "execution": {
     "iopub.execute_input": "2023-04-11T23:22:21.277225Z",
     "iopub.status.busy": "2023-04-11T23:22:21.276134Z",
     "iopub.status.idle": "2023-04-11T23:22:21.525221Z",
     "shell.execute_reply": "2023-04-11T23:22:21.523166Z"
    },
    "papermill": {
     "duration": 0.279161,
     "end_time": "2023-04-11T23:22:21.527755",
     "exception": false,
     "start_time": "2023-04-11T23:22:21.248594",
     "status": "completed"
    },
    "tags": []
   },
   "outputs": [
    {
     "data": {
      "image/png": "[encoded data removed]",
      "text/plain": [
       "<Figure size 640x480 with 1 Axes>"
      ]
     },
     "metadata": {},
     "output_type": "display_data"
    }
   ],
   "source": [
    "sns.violinplot(x=\"species\" , y=\"sepal_length\", data  = df_iris );\n",
    "plt.title(\"Üç Çiçek Türü için Üç Farklı Keman Grafiği\")\n",
    "plt.show()"
   ]
  },
  {
   "cell_type": "markdown",
   "id": "a1202355",
   "metadata": {
    "papermill": {
     "duration": 0.026004,
     "end_time": "2023-04-11T23:22:21.580377",
     "exception": false,
     "start_time": "2023-04-11T23:22:21.554373",
     "status": "completed"
    },
    "tags": []
   },
   "source": [
    "Yukarıdaki keman grafiği gösteriyor ki Setosa çiçeklerinin sepal length değerleri birbirine daha yakın bir dağılım gösterirken, Virginica çiçeklerinin sepal length değerleri daha geniş bir aralıkta dağılıyor ve bu nedenle daha fazla değişkenlik gösteriyor."
   ]
  },
  {
   "cell_type": "markdown",
   "id": "e9b17ae4",
   "metadata": {
    "papermill": {
     "duration": 0.027217,
     "end_time": "2023-04-11T23:22:21.634452",
     "exception": false,
     "start_time": "2023-04-11T23:22:21.607235",
     "status": "completed"
    },
    "tags": []
   },
   "source": [
    "Hangi çiçek türünden kaçar adet gözlem barındırıyor veri çerçevemiz?\n",
    "\n",
    "50 x 3 olduğunu ve **dengeli** olduğunu value_counts ile zaten görmüştük, ancak bunu görsel olarak ifade etmek için sns.countplot() fonksiyonuna variety parametresini vereilm."
   ]
  },
  {
   "cell_type": "code",
   "execution_count": 26,
   "id": "00ba116c",
   "metadata": {
    "execution": {
     "iopub.execute_input": "2023-04-11T23:22:21.691969Z",
     "iopub.status.busy": "2023-04-11T23:22:21.691046Z",
     "iopub.status.idle": "2023-04-11T23:22:21.895764Z",
     "shell.execute_reply": "2023-04-11T23:22:21.894545Z"
    },
    "papermill": {
     "duration": 0.237319,
     "end_time": "2023-04-11T23:22:21.898624",
     "exception": false,
     "start_time": "2023-04-11T23:22:21.661305",
     "status": "completed"
    },
    "tags": []
   },
   "outputs": [
    {
     "data": {
      "image/png": "[encoded data removed]",
      "text/plain": [
       "<Figure size 640x480 with 1 Axes>"
      ]
     },
     "metadata": {},
     "output_type": "display_data"
    }
   ],
   "source": [
    "sns.countplot(x=\"species\", data=df_iris)\n",
    "plt.title(\"Veri Setindeki Her Türden Kaç Adet Çiçek Var?\")\n",
    "plt.show()"
   ]
  },
  {
   "cell_type": "markdown",
   "id": "fe96b923",
   "metadata": {
    "papermill": {
     "duration": 0.02658,
     "end_time": "2023-04-11T23:22:21.953191",
     "exception": false,
     "start_time": "2023-04-11T23:22:21.926611",
     "status": "completed"
    },
    "tags": []
   },
   "source": [
    "sepal.length ve sepal.width değişkenlerini sns.jointplot ile görselleştirelim, dağılımı ve dağılımın frekansı yüksek olduğu bölgelerini inceleyelim."
   ]
  },
  {
   "cell_type": "code",
   "execution_count": 27,
   "id": "84567485",
   "metadata": {
    "execution": {
     "iopub.execute_input": "2023-04-11T23:22:22.010050Z",
     "iopub.status.busy": "2023-04-11T23:22:22.009623Z",
     "iopub.status.idle": "2023-04-11T23:22:22.706256Z",
     "shell.execute_reply": "2023-04-11T23:22:22.704899Z"
    },
    "papermill": {
     "duration": 0.728288,
     "end_time": "2023-04-11T23:22:22.708917",
     "exception": false,
     "start_time": "2023-04-11T23:22:21.980629",
     "status": "completed"
    },
    "tags": []
   },
   "outputs": [
    {
     "data": {
      "image/png": "[encoded data removed]",
      "text/plain": [
       "<Figure size 600x600 with 3 Axes>"
      ]
     },
     "metadata": {},
     "output_type": "display_data"
    }
   ],
   "source": [
    "sns.jointplot(data=df_iris, x=\"sepal_length\", y=\"sepal_width\" , color=\"darkgreen\")\n",
    "plt.show()"
   ]
  },
  {
   "cell_type": "markdown",
   "id": "e2b8d190",
   "metadata": {
    "papermill": {
     "duration": 0.027015,
     "end_time": "2023-04-11T23:22:22.763302",
     "exception": false,
     "start_time": "2023-04-11T23:22:22.736287",
     "status": "completed"
    },
    "tags": []
   },
   "source": [
    "Bir önceki hücrede yapmış olduğumuz görselleştirmeye kind = \"kde\" parametresini ekleyelim. Böylelikle dağılımın noktalı gösterimden çıkıp yoğunluk odaklı bir görselleştirmeye dönüştüğünü görmüş olacağız."
   ]
  },
  {
   "cell_type": "code",
   "execution_count": 28,
   "id": "75ad9af5",
   "metadata": {
    "execution": {
     "iopub.execute_input": "2023-04-11T23:22:22.820677Z",
     "iopub.status.busy": "2023-04-11T23:22:22.820251Z",
     "iopub.status.idle": "2023-04-11T23:22:23.467097Z",
     "shell.execute_reply": "2023-04-11T23:22:23.466146Z"
    },
    "papermill": {
     "duration": 0.678943,
     "end_time": "2023-04-11T23:22:23.469640",
     "exception": false,
     "start_time": "2023-04-11T23:22:22.790697",
     "status": "completed"
    },
    "tags": []
   },
   "outputs": [
    {
     "data": {
      "image/png": "[encoded data removed]",
      "text/plain": [
       "<Figure size 600x600 with 3 Axes>"
      ]
     },
     "metadata": {},
     "output_type": "display_data"
    }
   ],
   "source": [
    "sns.jointplot(data=df_iris, x=\"sepal_length\", y=\"sepal_width\" , kind=\"kde\" , color=\"pink\")\n",
    "plt.show()"
   ]
  },
  {
   "cell_type": "markdown",
   "id": "613339fa",
   "metadata": {
    "papermill": {
     "duration": 0.02897,
     "end_time": "2023-04-11T23:22:23.527911",
     "exception": false,
     "start_time": "2023-04-11T23:22:23.498941",
     "status": "completed"
    },
    "tags": []
   },
   "source": [
    "Dağılımın hangi bölgelerde daha sık olduğunu görmek için **kind=kde** seçeneğini kullandım. Bu seçenek grafikte yoğunluğu temsil eden bir çizgi ekler."
   ]
  },
  {
   "cell_type": "markdown",
   "id": "926aec28",
   "metadata": {
    "papermill": {
     "duration": 0.028615,
     "end_time": "2023-04-11T23:22:23.585432",
     "exception": false,
     "start_time": "2023-04-11T23:22:23.556817",
     "status": "completed"
    },
    "tags": []
   },
   "source": [
    "scatterplot ile petal.length ve petal.width değişkenlerinin dağılımlarını çizdirelim.\n",
    "\n",
    "Aşağıdaki kod parçası, \"petal_length\" değişkeninin x-ekseninde, \"petal_width\" değişkeninin y-ekseninde olduğu bir scatterplot oluşturur."
   ]
  },
  {
   "cell_type": "code",
   "execution_count": 29,
   "id": "334d126e",
   "metadata": {
    "execution": {
     "iopub.execute_input": "2023-04-11T23:22:23.645902Z",
     "iopub.status.busy": "2023-04-11T23:22:23.645040Z",
     "iopub.status.idle": "2023-04-11T23:22:23.886694Z",
     "shell.execute_reply": "2023-04-11T23:22:23.885496Z"
    },
    "papermill": {
     "duration": 0.274831,
     "end_time": "2023-04-11T23:22:23.889230",
     "exception": false,
     "start_time": "2023-04-11T23:22:23.614399",
     "status": "completed"
    },
    "tags": []
   },
   "outputs": [
    {
     "data": {
      "image/png": "[encoded data removed]",
      "text/plain": [
       "<Figure size 640x480 with 1 Axes>"
      ]
     },
     "metadata": {},
     "output_type": "display_data"
    }
   ],
   "source": [
    "sns.scatterplot(x=\"petal_length\", y=\"petal_width\",color=\"brown\" , data=df_iris);"
   ]
  },
  {
   "cell_type": "markdown",
   "id": "05019bdb",
   "metadata": {
    "papermill": {
     "duration": 0.028984,
     "end_time": "2023-04-11T23:22:23.948007",
     "exception": false,
     "start_time": "2023-04-11T23:22:23.919023",
     "status": "completed"
    },
    "tags": []
   },
   "source": [
    "Aynı görselleştirmeye hue = \"variety\" parametresini ekleyerek 3. bir boyut verelim."
   ]
  },
  {
   "cell_type": "code",
   "execution_count": 30,
   "id": "9cf5a692",
   "metadata": {
    "execution": {
     "iopub.execute_input": "2023-04-11T23:22:24.008889Z",
     "iopub.status.busy": "2023-04-11T23:22:24.007911Z",
     "iopub.status.idle": "2023-04-11T23:22:24.357552Z",
     "shell.execute_reply": "2023-04-11T23:22:24.356333Z"
    },
    "papermill": {
     "duration": 0.382887,
     "end_time": "2023-04-11T23:22:24.360003",
     "exception": false,
     "start_time": "2023-04-11T23:22:23.977116",
     "status": "completed"
    },
    "tags": []
   },
   "outputs": [
    {
     "data": {
      "image/png": "[encoded data removed]",
      "text/plain": [
       "<Figure size 640x480 with 1 Axes>"
      ]
     },
     "metadata": {},
     "output_type": "display_data"
    }
   ],
   "source": [
    "sns.scatterplot(x=\"petal_length\", y=\"petal_width\", hue=\"species\" ,data=df_iris);\n"
   ]
  },
  {
   "cell_type": "markdown",
   "id": "95c9992a",
   "metadata": {
    "papermill": {
     "duration": 0.030375,
     "end_time": "2023-04-11T23:22:24.421457",
     "exception": false,
     "start_time": "2023-04-11T23:22:24.391082",
     "status": "completed"
    },
    "tags": []
   },
   "source": [
    "Bu grafiğe göre; setosa türü diğer iki türe göre daha küçük boyutlu ve daha dar yapraklara sahiptir çıkarımında bulunabiliriz."
   ]
  },
  {
   "cell_type": "markdown",
   "id": "3f82c704",
   "metadata": {
    "papermill": {
     "duration": 0.029995,
     "end_time": "2023-04-11T23:22:24.481675",
     "exception": false,
     "start_time": "2023-04-11T23:22:24.451680",
     "status": "completed"
    },
    "tags": []
   },
   "source": [
    "sns.lmplot() görselleştirmesini petal.length ve petal.width değişkenleriyle implemente edelim. Petal length ile petal width arasında ne tür bir ilişki var ve bu ilişki güçlü müdür? sorusunu yanıtlayalım."
   ]
  },
  {
   "cell_type": "code",
   "execution_count": 31,
   "id": "066ec324",
   "metadata": {
    "execution": {
     "iopub.execute_input": "2023-04-11T23:22:24.544374Z",
     "iopub.status.busy": "2023-04-11T23:22:24.543144Z",
     "iopub.status.idle": "2023-04-11T23:22:25.360561Z",
     "shell.execute_reply": "2023-04-11T23:22:25.359349Z"
    },
    "papermill": {
     "duration": 0.851426,
     "end_time": "2023-04-11T23:22:25.363233",
     "exception": false,
     "start_time": "2023-04-11T23:22:24.511807",
     "status": "completed"
    },
    "tags": []
   },
   "outputs": [
    {
     "data": {
      "image/png": "[encoded data removed]",
      "text/plain": [
       "<Figure size 643x500 with 1 Axes>"
      ]
     },
     "metadata": {},
     "output_type": "display_data"
    }
   ],
   "source": [
    "sns.lmplot(x=\"petal_length\", y=\"petal_width\", hue=\"species\", data=df_iris);\n",
    "plt.title(\"Species ile Petal Length vs. Petal Width\" , color=\"darkred\")\n",
    "plt.show()"
   ]
  },
  {
   "cell_type": "markdown",
   "id": "98e3f372",
   "metadata": {
    "papermill": {
     "duration": 0.031358,
     "end_time": "2023-04-11T23:22:25.426204",
     "exception": false,
     "start_time": "2023-04-11T23:22:25.394846",
     "status": "completed"
    },
    "tags": []
   },
   "source": [
    "Bu görselleştirmede, petal length ile petal width arasında pozitif bir ilişki olduğu görülmektedir. Yani bir çiçeğin petal length değeri arttıkça, petal width değeri de genellikle artmaktadır. Ayrıca, her bir çiçek türü için (setosa, versicolor ve virginica), bu ilişkinin farklı bir doğru üzerinde olduğu görülmektedir.\n",
    "\n",
    "Özellikle setosa çiçeklerinin (lacivert renkli noktalar) petal length ve petal width değerleri arasındaki ilişki, diğer iki çiçek türüne göre daha zayıf görünmektedir. Bunun nedeni, setosa çiçeklerinin diğer çiçek türlerine göre daha küçük boyutlara sahip olması olabilir.Tabii ki bu çıkarım kesinlikle doğrudur demek yanlış olur. Diğer durumlarla birlikte daha detaylı incelenmesi gerekir.\n",
    "\n",
    "Grafikteki çizginin oldukça dik olması, bu değişkenler arasındaki ilişkinin yüksek korelasyonlu olduğunu göstermektedir. Grafikte, özellikle Versicolor çiçeklerinin (turuncu renkli noktalar) arasındaki ilişki en yüksek korelasyonlu olanıdır. "
   ]
  },
  {
   "cell_type": "code",
   "execution_count": 32,
   "id": "29192301",
   "metadata": {
    "execution": {
     "iopub.execute_input": "2023-04-11T23:22:25.491292Z",
     "iopub.status.busy": "2023-04-11T23:22:25.490853Z",
     "iopub.status.idle": "2023-04-11T23:22:25.916588Z",
     "shell.execute_reply": "2023-04-11T23:22:25.915225Z"
    },
    "papermill": {
     "duration": 0.461887,
     "end_time": "2023-04-11T23:22:25.919657",
     "exception": false,
     "start_time": "2023-04-11T23:22:25.457770",
     "status": "completed"
    },
    "tags": []
   },
   "outputs": [
    {
     "data": {
      "image/png": "[encoded data removed]",
      "text/plain": [
       "<Figure size 500x500 with 1 Axes>"
      ]
     },
     "metadata": {},
     "output_type": "display_data"
    }
   ],
   "source": [
    "sns.lmplot(x=\"petal_length\", y=\"petal_width\", data=df_iris );\n",
    "plt.title(\"Petal Length vs. Petal Width\" , color=\"blue\")\n",
    "plt.show()"
   ]
  },
  {
   "cell_type": "markdown",
   "id": "69f671c9",
   "metadata": {
    "papermill": {
     "duration": 0.033087,
     "end_time": "2023-04-11T23:22:25.985684",
     "exception": false,
     "start_time": "2023-04-11T23:22:25.952597",
     "status": "completed"
    },
    "tags": []
   },
   "source": [
    "Grafiği çiçek türlerine göre sınıflandırmadan tek bir şekilde de gösterebiliriz.\n",
    "\n",
    "Bu grafiğe bakarak da petal uzunluğu ve genişliği arasında pozitif bir ilişki olduğunu görebiliyoruz. Veri noktaları çizgiye yakın bir şekilde gruplanmıştır, bu da yüksek bir korelasyon olduğunu göstermektedir. Species değişkenine göre sınıflandırmadan tek tip olarak gösterilmesi, tüm çiçek türleri arasındaki ilişkiyi daha net bir şekilde görmemizi sağlar."
   ]
  },
  {
   "cell_type": "markdown",
   "id": "a94cdd94",
   "metadata": {
    "papermill": {
     "duration": 0.032096,
     "end_time": "2023-04-11T23:22:26.050913",
     "exception": false,
     "start_time": "2023-04-11T23:22:26.018817",
     "status": "completed"
    },
    "tags": []
   },
   "source": [
    "Bu sorunun yanıtını pekiştirmek için iki değişken arasında korelasyon katsayısını yazdıralım. "
   ]
  },
  {
   "cell_type": "code",
   "execution_count": 33,
   "id": "c88ee7ad",
   "metadata": {
    "execution": {
     "iopub.execute_input": "2023-04-11T23:22:26.117335Z",
     "iopub.status.busy": "2023-04-11T23:22:26.116669Z",
     "iopub.status.idle": "2023-04-11T23:22:26.126151Z",
     "shell.execute_reply": "2023-04-11T23:22:26.125004Z"
    },
    "papermill": {
     "duration": 0.045814,
     "end_time": "2023-04-11T23:22:26.128681",
     "exception": false,
     "start_time": "2023-04-11T23:22:26.082867",
     "status": "completed"
    },
    "tags": []
   },
   "outputs": [
    {
     "data": {
      "text/plain": [
       "0.9627570970509663"
      ]
     },
     "execution_count": 33,
     "metadata": {},
     "output_type": "execute_result"
    }
   ],
   "source": [
    "petal_corr = df_iris['petal_length'].corr(df_iris['petal_width']);\n",
    "petal_corr"
   ]
  },
  {
   "cell_type": "markdown",
   "id": "0577b906",
   "metadata": {
    "papermill": {
     "duration": 0.032111,
     "end_time": "2023-04-11T23:22:26.193156",
     "exception": false,
     "start_time": "2023-04-11T23:22:26.161045",
     "status": "completed"
    },
    "tags": []
   },
   "source": [
    "Daha önceden de hatırlarsınız ki en büyük korelasyon 0.96 ile petal_length ile petal_width arasındaydı. petal_corr değişkenini de hesaplayıp tekrar ekrana yazdırdığımızda bunu görebiliyoruz.\n",
    "\n",
    "Bu sonuç, yüksek bir pozitif ilişki olduğunu ve iki değişkenin birlikte arttığını gösterir. Ayrıca bu sonuç, daha önce yapılan görselleştirme analizinde de görüldüğü üzere, petal length ve petal width arasındaki ilişkinin güçlü olduğunu doğrulamaktadır."
   ]
  },
  {
   "cell_type": "markdown",
   "id": "ea917280",
   "metadata": {
    "papermill": {
     "duration": 0.031907,
     "end_time": "2023-04-11T23:22:26.257330",
     "exception": false,
     "start_time": "2023-04-11T23:22:26.225423",
     "status": "completed"
    },
    "tags": []
   },
   "source": [
    "Petal Length ile Sepal Length değerlerini toplayarak yeni bir total length özniteliği oluşturalım."
   ]
  },
  {
   "cell_type": "code",
   "execution_count": 34,
   "id": "d21a51fd",
   "metadata": {
    "execution": {
     "iopub.execute_input": "2023-04-11T23:22:26.323409Z",
     "iopub.status.busy": "2023-04-11T23:22:26.323004Z",
     "iopub.status.idle": "2023-04-11T23:22:26.344621Z",
     "shell.execute_reply": "2023-04-11T23:22:26.343447Z"
    },
    "papermill": {
     "duration": 0.057552,
     "end_time": "2023-04-11T23:22:26.347099",
     "exception": false,
     "start_time": "2023-04-11T23:22:26.289547",
     "status": "completed"
    },
    "tags": []
   },
   "outputs": [
    {
     "data": {
      "text/html": [
       "<div>\n",
       "<style scoped>\n",
       "    .dataframe tbody tr th:only-of-type {\n",
       "        vertical-align: middle;\n",
       "    }\n",
       "\n",
       "    .dataframe tbody tr th {\n",
       "        vertical-align: top;\n",
       "    }\n",
       "\n",
       "    .dataframe thead th {\n",
       "        text-align: right;\n",
       "    }\n",
       "</style>\n",
       "<table border=\"1\" class=\"dataframe\">\n",
       "  <thead>\n",
       "    <tr style=\"text-align: right;\">\n",
       "      <th></th>\n",
       "      <th>sepal_length</th>\n",
       "      <th>sepal_width</th>\n",
       "      <th>petal_length</th>\n",
       "      <th>petal_width</th>\n",
       "      <th>species</th>\n",
       "      <th>total_length</th>\n",
       "    </tr>\n",
       "  </thead>\n",
       "  <tbody>\n",
       "    <tr>\n",
       "      <th>0</th>\n",
       "      <td>5.1</td>\n",
       "      <td>3.5</td>\n",
       "      <td>1.4</td>\n",
       "      <td>0.2</td>\n",
       "      <td>Iris-setosa</td>\n",
       "      <td>6.5</td>\n",
       "    </tr>\n",
       "    <tr>\n",
       "      <th>1</th>\n",
       "      <td>4.9</td>\n",
       "      <td>3.0</td>\n",
       "      <td>1.4</td>\n",
       "      <td>0.2</td>\n",
       "      <td>Iris-setosa</td>\n",
       "      <td>6.3</td>\n",
       "    </tr>\n",
       "    <tr>\n",
       "      <th>2</th>\n",
       "      <td>4.7</td>\n",
       "      <td>3.2</td>\n",
       "      <td>1.3</td>\n",
       "      <td>0.2</td>\n",
       "      <td>Iris-setosa</td>\n",
       "      <td>6.0</td>\n",
       "    </tr>\n",
       "    <tr>\n",
       "      <th>3</th>\n",
       "      <td>4.6</td>\n",
       "      <td>3.1</td>\n",
       "      <td>1.5</td>\n",
       "      <td>0.2</td>\n",
       "      <td>Iris-setosa</td>\n",
       "      <td>6.1</td>\n",
       "    </tr>\n",
       "    <tr>\n",
       "      <th>4</th>\n",
       "      <td>5.0</td>\n",
       "      <td>3.6</td>\n",
       "      <td>1.4</td>\n",
       "      <td>0.2</td>\n",
       "      <td>Iris-setosa</td>\n",
       "      <td>6.4</td>\n",
       "    </tr>\n",
       "    <tr>\n",
       "      <th>...</th>\n",
       "      <td>...</td>\n",
       "      <td>...</td>\n",
       "      <td>...</td>\n",
       "      <td>...</td>\n",
       "      <td>...</td>\n",
       "      <td>...</td>\n",
       "    </tr>\n",
       "    <tr>\n",
       "      <th>145</th>\n",
       "      <td>6.7</td>\n",
       "      <td>3.0</td>\n",
       "      <td>5.2</td>\n",
       "      <td>2.3</td>\n",
       "      <td>Iris-virginica</td>\n",
       "      <td>11.9</td>\n",
       "    </tr>\n",
       "    <tr>\n",
       "      <th>146</th>\n",
       "      <td>6.3</td>\n",
       "      <td>2.5</td>\n",
       "      <td>5.0</td>\n",
       "      <td>1.9</td>\n",
       "      <td>Iris-virginica</td>\n",
       "      <td>11.3</td>\n",
       "    </tr>\n",
       "    <tr>\n",
       "      <th>147</th>\n",
       "      <td>6.5</td>\n",
       "      <td>3.0</td>\n",
       "      <td>5.2</td>\n",
       "      <td>2.0</td>\n",
       "      <td>Iris-virginica</td>\n",
       "      <td>11.7</td>\n",
       "    </tr>\n",
       "    <tr>\n",
       "      <th>148</th>\n",
       "      <td>6.2</td>\n",
       "      <td>3.4</td>\n",
       "      <td>5.4</td>\n",
       "      <td>2.3</td>\n",
       "      <td>Iris-virginica</td>\n",
       "      <td>11.6</td>\n",
       "    </tr>\n",
       "    <tr>\n",
       "      <th>149</th>\n",
       "      <td>5.9</td>\n",
       "      <td>3.0</td>\n",
       "      <td>5.1</td>\n",
       "      <td>1.8</td>\n",
       "      <td>Iris-virginica</td>\n",
       "      <td>11.0</td>\n",
       "    </tr>\n",
       "  </tbody>\n",
       "</table>\n",
       "<p>150 rows × 6 columns</p>\n",
       "</div>"
      ],
      "text/plain": [
       "     sepal_length  sepal_width  petal_length  petal_width         species  \\\n",
       "0             5.1          3.5           1.4          0.2     Iris-setosa   \n",
       "1             4.9          3.0           1.4          0.2     Iris-setosa   \n",
       "2             4.7          3.2           1.3          0.2     Iris-setosa   \n",
       "3             4.6          3.1           1.5          0.2     Iris-setosa   \n",
       "4             5.0          3.6           1.4          0.2     Iris-setosa   \n",
       "..            ...          ...           ...          ...             ...   \n",
       "145           6.7          3.0           5.2          2.3  Iris-virginica   \n",
       "146           6.3          2.5           5.0          1.9  Iris-virginica   \n",
       "147           6.5          3.0           5.2          2.0  Iris-virginica   \n",
       "148           6.2          3.4           5.4          2.3  Iris-virginica   \n",
       "149           5.9          3.0           5.1          1.8  Iris-virginica   \n",
       "\n",
       "     total_length  \n",
       "0             6.5  \n",
       "1             6.3  \n",
       "2             6.0  \n",
       "3             6.1  \n",
       "4             6.4  \n",
       "..            ...  \n",
       "145          11.9  \n",
       "146          11.3  \n",
       "147          11.7  \n",
       "148          11.6  \n",
       "149          11.0  \n",
       "\n",
       "[150 rows x 6 columns]"
      ]
     },
     "execution_count": 34,
     "metadata": {},
     "output_type": "execute_result"
    }
   ],
   "source": [
    "df_iris.assign(total_length = df_iris['petal_length'] + df_iris['sepal_length'])\n"
   ]
  },
  {
   "cell_type": "markdown",
   "id": "a140c83e",
   "metadata": {
    "papermill": {
     "duration": 0.032117,
     "end_time": "2023-04-11T23:22:26.411997",
     "exception": false,
     "start_time": "2023-04-11T23:22:26.379880",
     "status": "completed"
    },
    "tags": []
   },
   "source": [
    "total_length değişkenini oluşturduk ve tabloya ekledik fakat tabloya kalıcı olarak eklemedik. df_iris yapısını yukarıdaki kod satırına eşitlersek kalıcı olarak total_length değişkenini tabloya eklemiş oluruz."
   ]
  },
  {
   "cell_type": "code",
   "execution_count": 35,
   "id": "4f1207e5",
   "metadata": {
    "execution": {
     "iopub.execute_input": "2023-04-11T23:22:26.479659Z",
     "iopub.status.busy": "2023-04-11T23:22:26.478377Z",
     "iopub.status.idle": "2023-04-11T23:22:26.499377Z",
     "shell.execute_reply": "2023-04-11T23:22:26.498544Z"
    },
    "papermill": {
     "duration": 0.057007,
     "end_time": "2023-04-11T23:22:26.501551",
     "exception": false,
     "start_time": "2023-04-11T23:22:26.444544",
     "status": "completed"
    },
    "tags": []
   },
   "outputs": [
    {
     "data": {
      "text/html": [
       "<div>\n",
       "<style scoped>\n",
       "    .dataframe tbody tr th:only-of-type {\n",
       "        vertical-align: middle;\n",
       "    }\n",
       "\n",
       "    .dataframe tbody tr th {\n",
       "        vertical-align: top;\n",
       "    }\n",
       "\n",
       "    .dataframe thead th {\n",
       "        text-align: right;\n",
       "    }\n",
       "</style>\n",
       "<table border=\"1\" class=\"dataframe\">\n",
       "  <thead>\n",
       "    <tr style=\"text-align: right;\">\n",
       "      <th></th>\n",
       "      <th>sepal_length</th>\n",
       "      <th>sepal_width</th>\n",
       "      <th>petal_length</th>\n",
       "      <th>petal_width</th>\n",
       "      <th>species</th>\n",
       "      <th>total_length</th>\n",
       "    </tr>\n",
       "  </thead>\n",
       "  <tbody>\n",
       "    <tr>\n",
       "      <th>0</th>\n",
       "      <td>5.1</td>\n",
       "      <td>3.5</td>\n",
       "      <td>1.4</td>\n",
       "      <td>0.2</td>\n",
       "      <td>Iris-setosa</td>\n",
       "      <td>6.5</td>\n",
       "    </tr>\n",
       "    <tr>\n",
       "      <th>1</th>\n",
       "      <td>4.9</td>\n",
       "      <td>3.0</td>\n",
       "      <td>1.4</td>\n",
       "      <td>0.2</td>\n",
       "      <td>Iris-setosa</td>\n",
       "      <td>6.3</td>\n",
       "    </tr>\n",
       "    <tr>\n",
       "      <th>2</th>\n",
       "      <td>4.7</td>\n",
       "      <td>3.2</td>\n",
       "      <td>1.3</td>\n",
       "      <td>0.2</td>\n",
       "      <td>Iris-setosa</td>\n",
       "      <td>6.0</td>\n",
       "    </tr>\n",
       "    <tr>\n",
       "      <th>3</th>\n",
       "      <td>4.6</td>\n",
       "      <td>3.1</td>\n",
       "      <td>1.5</td>\n",
       "      <td>0.2</td>\n",
       "      <td>Iris-setosa</td>\n",
       "      <td>6.1</td>\n",
       "    </tr>\n",
       "    <tr>\n",
       "      <th>4</th>\n",
       "      <td>5.0</td>\n",
       "      <td>3.6</td>\n",
       "      <td>1.4</td>\n",
       "      <td>0.2</td>\n",
       "      <td>Iris-setosa</td>\n",
       "      <td>6.4</td>\n",
       "    </tr>\n",
       "    <tr>\n",
       "      <th>...</th>\n",
       "      <td>...</td>\n",
       "      <td>...</td>\n",
       "      <td>...</td>\n",
       "      <td>...</td>\n",
       "      <td>...</td>\n",
       "      <td>...</td>\n",
       "    </tr>\n",
       "    <tr>\n",
       "      <th>145</th>\n",
       "      <td>6.7</td>\n",
       "      <td>3.0</td>\n",
       "      <td>5.2</td>\n",
       "      <td>2.3</td>\n",
       "      <td>Iris-virginica</td>\n",
       "      <td>11.9</td>\n",
       "    </tr>\n",
       "    <tr>\n",
       "      <th>146</th>\n",
       "      <td>6.3</td>\n",
       "      <td>2.5</td>\n",
       "      <td>5.0</td>\n",
       "      <td>1.9</td>\n",
       "      <td>Iris-virginica</td>\n",
       "      <td>11.3</td>\n",
       "    </tr>\n",
       "    <tr>\n",
       "      <th>147</th>\n",
       "      <td>6.5</td>\n",
       "      <td>3.0</td>\n",
       "      <td>5.2</td>\n",
       "      <td>2.0</td>\n",
       "      <td>Iris-virginica</td>\n",
       "      <td>11.7</td>\n",
       "    </tr>\n",
       "    <tr>\n",
       "      <th>148</th>\n",
       "      <td>6.2</td>\n",
       "      <td>3.4</td>\n",
       "      <td>5.4</td>\n",
       "      <td>2.3</td>\n",
       "      <td>Iris-virginica</td>\n",
       "      <td>11.6</td>\n",
       "    </tr>\n",
       "    <tr>\n",
       "      <th>149</th>\n",
       "      <td>5.9</td>\n",
       "      <td>3.0</td>\n",
       "      <td>5.1</td>\n",
       "      <td>1.8</td>\n",
       "      <td>Iris-virginica</td>\n",
       "      <td>11.0</td>\n",
       "    </tr>\n",
       "  </tbody>\n",
       "</table>\n",
       "<p>150 rows × 6 columns</p>\n",
       "</div>"
      ],
      "text/plain": [
       "     sepal_length  sepal_width  petal_length  petal_width         species  \\\n",
       "0             5.1          3.5           1.4          0.2     Iris-setosa   \n",
       "1             4.9          3.0           1.4          0.2     Iris-setosa   \n",
       "2             4.7          3.2           1.3          0.2     Iris-setosa   \n",
       "3             4.6          3.1           1.5          0.2     Iris-setosa   \n",
       "4             5.0          3.6           1.4          0.2     Iris-setosa   \n",
       "..            ...          ...           ...          ...             ...   \n",
       "145           6.7          3.0           5.2          2.3  Iris-virginica   \n",
       "146           6.3          2.5           5.0          1.9  Iris-virginica   \n",
       "147           6.5          3.0           5.2          2.0  Iris-virginica   \n",
       "148           6.2          3.4           5.4          2.3  Iris-virginica   \n",
       "149           5.9          3.0           5.1          1.8  Iris-virginica   \n",
       "\n",
       "     total_length  \n",
       "0             6.5  \n",
       "1             6.3  \n",
       "2             6.0  \n",
       "3             6.1  \n",
       "4             6.4  \n",
       "..            ...  \n",
       "145          11.9  \n",
       "146          11.3  \n",
       "147          11.7  \n",
       "148          11.6  \n",
       "149          11.0  \n",
       "\n",
       "[150 rows x 6 columns]"
      ]
     },
     "execution_count": 35,
     "metadata": {},
     "output_type": "execute_result"
    }
   ],
   "source": [
    "df_iris = df_iris.assign(total_length = df_iris['petal_length'] + df_iris['sepal_length']);\n",
    "df_iris"
   ]
  },
  {
   "cell_type": "markdown",
   "id": "516857d8",
   "metadata": {
    "papermill": {
     "duration": 0.032907,
     "end_time": "2023-04-11T23:22:26.567476",
     "exception": false,
     "start_time": "2023-04-11T23:22:26.534569",
     "status": "completed"
    },
    "tags": []
   },
   "source": [
    "total.length'in ortalama değerini yazdıralım. \n",
    "\n",
    "Bir değişkenin ortalamasını bulabilmek için mean() fonksiyonu kullanılır.\n",
    "\n",
    "Tüm çiçek türlerinin uzunlukları toplamının, gözlem sayısına bölünmesi sonucunda ortalama uzunluk 9.6 olarak bulunmuştur."
   ]
  },
  {
   "cell_type": "code",
   "execution_count": 36,
   "id": "5fc53e9e",
   "metadata": {
    "execution": {
     "iopub.execute_input": "2023-04-11T23:22:26.634397Z",
     "iopub.status.busy": "2023-04-11T23:22:26.634001Z",
     "iopub.status.idle": "2023-04-11T23:22:26.640132Z",
     "shell.execute_reply": "2023-04-11T23:22:26.638928Z"
    },
    "papermill": {
     "duration": 0.042744,
     "end_time": "2023-04-11T23:22:26.642583",
     "exception": false,
     "start_time": "2023-04-11T23:22:26.599839",
     "status": "completed"
    },
    "tags": []
   },
   "outputs": [
    {
     "name": "stdout",
     "output_type": "stream",
     "text": [
      "Ortalama Değer:  9.602\n"
     ]
    }
   ],
   "source": [
    "total_length_mean= df_iris[\"total_length\"].mean()\n",
    "print(\"Ortalama Değer: \", total_length_mean)"
   ]
  },
  {
   "cell_type": "markdown",
   "id": "680a261a",
   "metadata": {
    "papermill": {
     "duration": 0.033536,
     "end_time": "2023-04-11T23:22:26.709303",
     "exception": false,
     "start_time": "2023-04-11T23:22:26.675767",
     "status": "completed"
    },
    "tags": []
   },
   "source": [
    "total.length'in standart sapma değerini yazdıralım.\n",
    "\n",
    "Standart sapma ise 2.5 çıktı."
   ]
  },
  {
   "cell_type": "code",
   "execution_count": 37,
   "id": "81e5796a",
   "metadata": {
    "execution": {
     "iopub.execute_input": "2023-04-11T23:22:26.777909Z",
     "iopub.status.busy": "2023-04-11T23:22:26.777200Z",
     "iopub.status.idle": "2023-04-11T23:22:26.783511Z",
     "shell.execute_reply": "2023-04-11T23:22:26.782132Z"
    },
    "papermill": {
     "duration": 0.043915,
     "end_time": "2023-04-11T23:22:26.786073",
     "exception": false,
     "start_time": "2023-04-11T23:22:26.742158",
     "status": "completed"
    },
    "tags": []
   },
   "outputs": [
    {
     "name": "stdout",
     "output_type": "stream",
     "text": [
      "Standart Sapma:  2.5191739884121973\n"
     ]
    }
   ],
   "source": [
    "total_length_std= df_iris[\"total_length\"].std()\n",
    "print(\"Standart Sapma: \", total_length_std)"
   ]
  },
  {
   "cell_type": "markdown",
   "id": "7d3139a4",
   "metadata": {
    "papermill": {
     "duration": 0.033515,
     "end_time": "2023-04-11T23:22:26.852565",
     "exception": false,
     "start_time": "2023-04-11T23:22:26.819050",
     "status": "completed"
    },
    "tags": []
   },
   "source": [
    "Ortalama 9.6, total_length değişkeninin tüm örneklem verilerinin toplamının örneklem sayısına bölünmesiyle hesaplanan bir değerdir. Bu da tüm çiçeklerin ortalama uzunluğunu verir. Standart sapma ise verilerin ne kadar yayıldığını gösteren bir ölçüttür. Bu durumda, standart sapmanın 2.5 olması, tüm çiçeklerin uzunluklarının ortalamadan ne kadar **farklılaştığını** gösterir. Yani, çiçeklerin uzunlukları ortalama uzunluktan yaklaşık 2.5 birim kadar sapma gösteriyor."
   ]
  },
  {
   "cell_type": "markdown",
   "id": "ff7311b2",
   "metadata": {
    "papermill": {
     "duration": 0.032463,
     "end_time": "2023-04-11T23:22:26.917938",
     "exception": false,
     "start_time": "2023-04-11T23:22:26.885475",
     "status": "completed"
    },
    "tags": []
   },
   "source": [
    "sepal.length'in maksimum değerini yazdıralım."
   ]
  },
  {
   "cell_type": "code",
   "execution_count": 38,
   "id": "a16d95b9",
   "metadata": {
    "execution": {
     "iopub.execute_input": "2023-04-11T23:22:26.986008Z",
     "iopub.status.busy": "2023-04-11T23:22:26.985596Z",
     "iopub.status.idle": "2023-04-11T23:22:26.992373Z",
     "shell.execute_reply": "2023-04-11T23:22:26.991123Z"
    },
    "papermill": {
     "duration": 0.044339,
     "end_time": "2023-04-11T23:22:26.995185",
     "exception": false,
     "start_time": "2023-04-11T23:22:26.950846",
     "status": "completed"
    },
    "tags": []
   },
   "outputs": [
    {
     "name": "stdout",
     "output_type": "stream",
     "text": [
      "Sepal Length'in Maksimum Değeri 7.9\n"
     ]
    }
   ],
   "source": [
    "sepal_length_max= df_iris[\"sepal_length\"].max()\n",
    "print( \"Sepal Length'in Maksimum Değeri\",sepal_length_max)"
   ]
  },
  {
   "cell_type": "markdown",
   "id": "82b222fb",
   "metadata": {
    "papermill": {
     "duration": 0.032796,
     "end_time": "2023-04-11T23:22:27.061039",
     "exception": false,
     "start_time": "2023-04-11T23:22:27.028243",
     "status": "completed"
    },
    "tags": []
   },
   "source": [
    "sepal.length'i 5.5'den büyük ve türü setosa olan gözlemleri yazdıralım."
   ]
  },
  {
   "cell_type": "code",
   "execution_count": 39,
   "id": "5f239afa",
   "metadata": {
    "execution": {
     "iopub.execute_input": "2023-04-11T23:22:27.128991Z",
     "iopub.status.busy": "2023-04-11T23:22:27.128119Z",
     "iopub.status.idle": "2023-04-11T23:22:27.141013Z",
     "shell.execute_reply": "2023-04-11T23:22:27.139817Z"
    },
    "papermill": {
     "duration": 0.049636,
     "end_time": "2023-04-11T23:22:27.143451",
     "exception": false,
     "start_time": "2023-04-11T23:22:27.093815",
     "status": "completed"
    },
    "tags": []
   },
   "outputs": [
    {
     "data": {
      "text/html": [
       "<div>\n",
       "<style scoped>\n",
       "    .dataframe tbody tr th:only-of-type {\n",
       "        vertical-align: middle;\n",
       "    }\n",
       "\n",
       "    .dataframe tbody tr th {\n",
       "        vertical-align: top;\n",
       "    }\n",
       "\n",
       "    .dataframe thead th {\n",
       "        text-align: right;\n",
       "    }\n",
       "</style>\n",
       "<table border=\"1\" class=\"dataframe\">\n",
       "  <thead>\n",
       "    <tr style=\"text-align: right;\">\n",
       "      <th></th>\n",
       "      <th>sepal_length</th>\n",
       "      <th>sepal_width</th>\n",
       "      <th>petal_length</th>\n",
       "      <th>petal_width</th>\n",
       "      <th>species</th>\n",
       "      <th>total_length</th>\n",
       "    </tr>\n",
       "  </thead>\n",
       "  <tbody>\n",
       "  </tbody>\n",
       "</table>\n",
       "</div>"
      ],
      "text/plain": [
       "Empty DataFrame\n",
       "Columns: [sepal_length, sepal_width, petal_length, petal_width, species, total_length]\n",
       "Index: []"
      ]
     },
     "execution_count": 39,
     "metadata": {},
     "output_type": "execute_result"
    }
   ],
   "source": [
    "df_iris[(df_iris[\"sepal_length\"]> 5.5) & (df_iris[\"species\"] == \"setosa\")]"
   ]
  },
  {
   "cell_type": "markdown",
   "id": "c1225f2e",
   "metadata": {
    "papermill": {
     "duration": 0.032748,
     "end_time": "2023-04-11T23:22:27.209364",
     "exception": false,
     "start_time": "2023-04-11T23:22:27.176616",
     "status": "completed"
    },
    "tags": []
   },
   "source": [
    "petal.length'i 5'den küçük ve türü virginica olan gözlemlerin sadece sepal.length ve sepal.width değişkenlerini ve değerlerini yazdıralım."
   ]
  },
  {
   "cell_type": "code",
   "execution_count": 40,
   "id": "ab1ba1ee",
   "metadata": {
    "execution": {
     "iopub.execute_input": "2023-04-11T23:22:27.278737Z",
     "iopub.status.busy": "2023-04-11T23:22:27.277561Z",
     "iopub.status.idle": "2023-04-11T23:22:27.288797Z",
     "shell.execute_reply": "2023-04-11T23:22:27.287664Z"
    },
    "papermill": {
     "duration": 0.048172,
     "end_time": "2023-04-11T23:22:27.291037",
     "exception": false,
     "start_time": "2023-04-11T23:22:27.242865",
     "status": "completed"
    },
    "tags": []
   },
   "outputs": [
    {
     "data": {
      "text/html": [
       "<div>\n",
       "<style scoped>\n",
       "    .dataframe tbody tr th:only-of-type {\n",
       "        vertical-align: middle;\n",
       "    }\n",
       "\n",
       "    .dataframe tbody tr th {\n",
       "        vertical-align: top;\n",
       "    }\n",
       "\n",
       "    .dataframe thead th {\n",
       "        text-align: right;\n",
       "    }\n",
       "</style>\n",
       "<table border=\"1\" class=\"dataframe\">\n",
       "  <thead>\n",
       "    <tr style=\"text-align: right;\">\n",
       "      <th></th>\n",
       "      <th>sepal_length</th>\n",
       "      <th>sepal_width</th>\n",
       "    </tr>\n",
       "  </thead>\n",
       "  <tbody>\n",
       "  </tbody>\n",
       "</table>\n",
       "</div>"
      ],
      "text/plain": [
       "Empty DataFrame\n",
       "Columns: [sepal_length, sepal_width]\n",
       "Index: []"
      ]
     },
     "execution_count": 40,
     "metadata": {},
     "output_type": "execute_result"
    }
   ],
   "source": [
    "df_iris.loc[(df_iris['petal_length'] < 5) & (df_iris['species'] == 'virginica'), ['sepal_length', 'sepal_width']]"
   ]
  },
  {
   "cell_type": "markdown",
   "id": "994bc061",
   "metadata": {
    "papermill": {
     "duration": 0.032889,
     "end_time": "2023-04-11T23:22:27.357130",
     "exception": false,
     "start_time": "2023-04-11T23:22:27.324241",
     "status": "completed"
    },
    "tags": []
   },
   "source": [
    "Hedef değişkenimiz variety'e göre bir gruplama işlemi yapalım değişken değerlerimizin ortalamasını görüntüleyelim.\n",
    "\n",
    "Bu işlem için groupby() fonksiyonunu kullanabiliriz."
   ]
  },
  {
   "cell_type": "code",
   "execution_count": 41,
   "id": "697a5fcf",
   "metadata": {
    "execution": {
     "iopub.execute_input": "2023-04-11T23:22:27.425346Z",
     "iopub.status.busy": "2023-04-11T23:22:27.424590Z",
     "iopub.status.idle": "2023-04-11T23:22:27.438636Z",
     "shell.execute_reply": "2023-04-11T23:22:27.437600Z"
    },
    "papermill": {
     "duration": 0.050765,
     "end_time": "2023-04-11T23:22:27.440925",
     "exception": false,
     "start_time": "2023-04-11T23:22:27.390160",
     "status": "completed"
    },
    "tags": []
   },
   "outputs": [
    {
     "data": {
      "text/html": [
       "<div>\n",
       "<style scoped>\n",
       "    .dataframe tbody tr th:only-of-type {\n",
       "        vertical-align: middle;\n",
       "    }\n",
       "\n",
       "    .dataframe tbody tr th {\n",
       "        vertical-align: top;\n",
       "    }\n",
       "\n",
       "    .dataframe thead th {\n",
       "        text-align: right;\n",
       "    }\n",
       "</style>\n",
       "<table border=\"1\" class=\"dataframe\">\n",
       "  <thead>\n",
       "    <tr style=\"text-align: right;\">\n",
       "      <th></th>\n",
       "      <th>sepal_length</th>\n",
       "      <th>sepal_width</th>\n",
       "      <th>petal_length</th>\n",
       "      <th>petal_width</th>\n",
       "      <th>total_length</th>\n",
       "    </tr>\n",
       "    <tr>\n",
       "      <th>species</th>\n",
       "      <th></th>\n",
       "      <th></th>\n",
       "      <th></th>\n",
       "      <th></th>\n",
       "      <th></th>\n",
       "    </tr>\n",
       "  </thead>\n",
       "  <tbody>\n",
       "    <tr>\n",
       "      <th>Iris-setosa</th>\n",
       "      <td>5.006</td>\n",
       "      <td>3.418</td>\n",
       "      <td>1.464</td>\n",
       "      <td>0.244</td>\n",
       "      <td>6.470</td>\n",
       "    </tr>\n",
       "    <tr>\n",
       "      <th>Iris-versicolor</th>\n",
       "      <td>5.936</td>\n",
       "      <td>2.770</td>\n",
       "      <td>4.260</td>\n",
       "      <td>1.326</td>\n",
       "      <td>10.196</td>\n",
       "    </tr>\n",
       "    <tr>\n",
       "      <th>Iris-virginica</th>\n",
       "      <td>6.588</td>\n",
       "      <td>2.974</td>\n",
       "      <td>5.552</td>\n",
       "      <td>2.026</td>\n",
       "      <td>12.140</td>\n",
       "    </tr>\n",
       "  </tbody>\n",
       "</table>\n",
       "</div>"
      ],
      "text/plain": [
       "                 sepal_length  sepal_width  petal_length  petal_width  \\\n",
       "species                                                                 \n",
       "Iris-setosa             5.006        3.418         1.464        0.244   \n",
       "Iris-versicolor         5.936        2.770         4.260        1.326   \n",
       "Iris-virginica          6.588        2.974         5.552        2.026   \n",
       "\n",
       "                 total_length  \n",
       "species                        \n",
       "Iris-setosa             6.470  \n",
       "Iris-versicolor        10.196  \n",
       "Iris-virginica         12.140  "
      ]
     },
     "execution_count": 41,
     "metadata": {},
     "output_type": "execute_result"
    }
   ],
   "source": [
    "df_iris.groupby('species').mean()"
   ]
  },
  {
   "cell_type": "markdown",
   "id": "aca5019e",
   "metadata": {
    "papermill": {
     "duration": 0.032901,
     "end_time": "2023-04-11T23:22:27.507344",
     "exception": false,
     "start_time": "2023-04-11T23:22:27.474443",
     "status": "completed"
    },
    "tags": []
   },
   "source": [
    "Iris setosa, diğer türlerden daha küçük çiçekleri olan bir türdür. Diğer taraftan, Iris virginica, en büyük çiçeklere sahip olan türdür. Toplam uzunluk sütunu, çiçeklerin boyutunu tam olarak ifade etmek için hesaplanan bir özelliktir. Bu tablodaki veriler, türler arasındaki farklılıkları ve benzerlikleri anlamamıza yardımcı olabilir."
   ]
  },
  {
   "cell_type": "markdown",
   "id": "75b3c72c",
   "metadata": {
    "papermill": {
     "duration": 0.033145,
     "end_time": "2023-04-11T23:22:27.573853",
     "exception": false,
     "start_time": "2023-04-11T23:22:27.540708",
     "status": "completed"
    },
    "tags": []
   },
   "source": [
    "Hedef değişkenimiz variety'e göre gruplama işlemi yaparak sadece petal.length değişkenimizin standart sapma değerlerini yazdıralım. \n",
    "\n",
    "Aşağıdaki kodda ilk satırda groupby() fonksiyonunu kullanarak species değişkenine göre gruplama yapıyoruz ve sadece petal_length değişkenini seçiyoruz. Ardından da std() ile standart sapmayı hesaplıyoruz."
   ]
  },
  {
   "cell_type": "code",
   "execution_count": 42,
   "id": "f3c2bdd5",
   "metadata": {
    "execution": {
     "iopub.execute_input": "2023-04-11T23:22:27.642838Z",
     "iopub.status.busy": "2023-04-11T23:22:27.642123Z",
     "iopub.status.idle": "2023-04-11T23:22:27.652799Z",
     "shell.execute_reply": "2023-04-11T23:22:27.651795Z"
    },
    "papermill": {
     "duration": 0.0477,
     "end_time": "2023-04-11T23:22:27.654951",
     "exception": false,
     "start_time": "2023-04-11T23:22:27.607251",
     "status": "completed"
    },
    "tags": []
   },
   "outputs": [
    {
     "data": {
      "text/plain": [
       "species\n",
       "Iris-setosa        0.173511\n",
       "Iris-versicolor    0.469911\n",
       "Iris-virginica     0.551895\n",
       "Name: petal_length, dtype: float64"
      ]
     },
     "execution_count": 42,
     "metadata": {},
     "output_type": "execute_result"
    }
   ],
   "source": [
    "df_iris.groupby('species')[\"petal_length\"].std()"
   ]
  },
  {
   "cell_type": "markdown",
   "id": "dc391024",
   "metadata": {
    "papermill": {
     "duration": 0.034293,
     "end_time": "2023-04-11T23:22:27.722716",
     "exception": false,
     "start_time": "2023-04-11T23:22:27.688423",
     "status": "completed"
    },
    "tags": []
   },
   "source": [
    "Setosa türünde petal length değişkeninin standart sapması en düşük, yani veriler arasındaki fark çok azdır. Iris-virginica türünde ise petal length değişkeninin standart sapması en yüksektir, yani veriler arasındaki fark daha fazladır. Bu da gösteriyor ki farklı türlerin özellikleri birbirinden farklıdır."
   ]
  },
  {
   "cell_type": "markdown",
   "id": "2e333e1e",
   "metadata": {
    "papermill": {
     "duration": 0.033678,
     "end_time": "2023-04-11T23:22:27.790381",
     "exception": false,
     "start_time": "2023-04-11T23:22:27.756703",
     "status": "completed"
    },
    "tags": []
   },
   "source": [
    "Emeğiniz, ayırdığınız vakit ve ilginiz için teşekkürler."
   ]
  }
 ],
 "metadata": {
  "kernelspec": {
   "display_name": "Python 3",
   "language": "python",
   "name": "python3"
  },
  "language_info": {
   "codemirror_mode": {
    "name": "ipython",
    "version": 3
   },
   "file_extension": ".py",
   "mimetype": "text/x-python",
   "name": "python",
   "nbconvert_exporter": "python",
   "pygments_lexer": "ipython3",
   "version": "3.7.12"
  },
  "papermill": {
   "default_parameters": {},
   "duration": 24.713113,
   "end_time": "2023-04-11T23:22:28.649474",
   "environment_variables": {},
   "exception": null,
   "input_path": "__notebook__.ipynb",
   "output_path": "__notebook__.ipynb",
   "parameters": {},
   "start_time": "2023-04-11T23:22:03.936361",
   "version": "2.4.0"
  }
 },
 "nbformat": 4,
 "nbformat_minor": 5
}
